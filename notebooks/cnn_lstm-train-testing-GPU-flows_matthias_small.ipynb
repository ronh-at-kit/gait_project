{
 "cells": [
  {
   "cell_type": "code",
   "execution_count": 1,
   "metadata": {},
   "outputs": [
    {
     "name": "stdout",
     "output_type": "stream",
     "text": [
      "done\n"
     ]
    }
   ],
   "source": [
    "import torch\n",
    "import torch.nn as nn\n",
    "import torch.nn.functional as F\n",
    "import torch.optim as optim\n",
    "from torch.utils.data import DataLoader\n",
    "\n",
    "from torch.optim import lr_scheduler\n",
    "import numpy as np\n",
    "import torchvision\n",
    "from torchvision import datasets, models, transforms\n",
    "import time\n",
    "import os\n",
    "import os.path as path\n",
    "import copy\n",
    "# from torch.utils.data.sampler import SequentialSampler\n",
    "\n",
    "\n",
    "from gait_analysis import AnnotationsCasia as Annotations\n",
    "from gait_analysis import CasiaDataset\n",
    "from gait_analysis.Config import Config\n",
    "from gait_analysis import Composer\n",
    "\n",
    "import matplotlib.pyplot as plt\n",
    "\n",
    "print(\"done\")"
   ]
  },
  {
   "cell_type": "code",
   "execution_count": 2,
   "metadata": {},
   "outputs": [
    {
     "name": "stdout",
     "output_type": "stream",
     "text": [
      "loading configuration  flows\n",
      "[OK]\n"
     ]
    }
   ],
   "source": [
    "#change configuration in settings.py\n",
    "\n",
    "crop_im_size = [186,250]\n",
    "c = Config()\n",
    "c.config['indexing']['grouping'] = 'person_sequence_angle'\n",
    "c.config['indexing']['people selection'] = [1]\n",
    "#c.config['indexing']['sequences_selection'] = ['nm-01']\n",
    "c.config['pose']['load'] = False\n",
    "c.config['flow']['load'] = True\n",
    "c.config['heatmaps']['load'] = False\n",
    "#c.config['scenes']['sequences'] = ['nm']\n",
    "#c.config['scenes']['angles'] = ['108']\n",
    "c.config['dataset_output'] = {\n",
    "#         'data': [\"scenes\",\"flows\",\"heatmaps_LAnkle\",\"heatmaps_RAnkle\"],\n",
    "        'data': ['flows'],\n",
    "        'label': \"annotations\"}\n",
    "composer = Composer()\n",
    "transformer = composer.compose()\n",
    "dataset = CasiaDataset(transform=transformer)"
   ]
  },
  {
   "cell_type": "markdown",
   "metadata": {},
   "source": [
    "## NETWORK AND DATASET PARAMETERS"
   ]
  },
  {
   "cell_type": "code",
   "execution_count": 3,
   "metadata": {},
   "outputs": [
    {
     "name": "stdout",
     "output_type": "stream",
     "text": [
      "Hyperparameters defined\n"
     ]
    }
   ],
   "source": [
    "#DESIGN PARAMETERS FOR NEURAL NETWORK\n",
    "NR_LSTM_UNITS = 2 \n",
    "IMAGE_INPUT_SIZE_W = 640\n",
    "IMAGE_INPUT_SIZE_H = 480\n",
    "\n",
    "IMAGE_AFTER_CONV_SIZE_W = 18\n",
    "IMAGE_AFTER_CONV_SIZE_H = 13\n",
    "#for 3x3 kernels, n=num_layers: len_in = 2^n*len_out + sum[i=1..n](2^i)\n",
    "#CONV_LAYER_LENGTH = 5\n",
    "\n",
    "LSTM_IO_SIZE = 18*13\n",
    "LSTM_HIDDEN_SIZE = 18*13\n",
    "\n",
    "RGB_CHANNELS = 3\n",
    "TIMESTEPS = 40 # size videos\n",
    "BATCH_SIZE = 1 #until now just batch_size = 1\n",
    "\n",
    "NR_EPOCHS = 50\n",
    "\n",
    "VALIDATION_SPLIT = 0.2\n",
    "RANDOMIZED_SEED = 10\n",
    "SHUFFLE_DATASET = False\n",
    "\n",
    "learning_rate = 0.01 # reduce factos of 10 .. some epoch later.\n",
    "momentum = 0.9\n",
    "print(\"Hyperparameters defined\")"
   ]
  },
  {
   "cell_type": "markdown",
   "metadata": {},
   "source": [
    "# Settings \n",
    "## Dataset"
   ]
  },
  {
   "cell_type": "code",
   "execution_count": 4,
   "metadata": {},
   "outputs": [
    {
     "name": "stdout",
     "output_type": "stream",
     "text": [
      "Dataset size: 5\n",
      "Indices size: 5\n",
      "Split: 1\n"
     ]
    }
   ],
   "source": [
    "dataset_size = len(dataset)\n",
    "indices = list(range(dataset_size))\n",
    "print(\"Dataset size:\", len(dataset))\n",
    "print(\"Indices size:\", len(indices))\n",
    "split = int(np.floor(VALIDATION_SPLIT * dataset_size))\n",
    "print(\"Split:\", split)\n",
    "if SHUFFLE_DATASET:\n",
    "    np.random.seed(RANDOMIZED_SEED)\n",
    "    np.random.shuffle(indices)\n",
    "train_indices, test_indices = indices[split:], indices[:split]\n",
    "train_sampler = torch.utils.data.SequentialSampler(train_indices)\n",
    "test_sampler = torch.utils.data.SequentialSampler(test_indices)\n",
    "\n",
    "train_loader = torch.utils.data.DataLoader(dataset, batch_size=BATCH_SIZE, sampler=train_sampler)\n",
    "test_loader = torch.utils.data.DataLoader(dataset, batch_size=BATCH_SIZE, sampler=test_sampler)\n",
    "\n",
    "# #"
   ]
  },
  {
   "cell_type": "markdown",
   "metadata": {},
   "source": [
    "## neural network"
   ]
  },
  {
   "cell_type": "code",
   "execution_count": 5,
   "metadata": {},
   "outputs": [
    {
     "name": "stdout",
     "output_type": "stream",
     "text": [
      "Class defined\n"
     ]
    }
   ],
   "source": [
    "\n",
    "#USE RANDOM IMAGES TO SET UP WORKING EXAMPLE\n",
    "class TEST_CNN_LSTM(nn.Module):\n",
    "    def __init__(self):\n",
    "        super(TEST_CNN_LSTM, self).__init__()\n",
    "        self.avialable_device = torch.device(\"cuda:0\" if torch.cuda.is_available() else \"cpu\")\n",
    "\n",
    "        self.conv1 = nn.Conv2d(3,6,3) #input 640x480\n",
    "        self.pool1 = nn.MaxPool2d(2,2) #input 638x478 output 319x239\n",
    "        self.conv2 = nn.Conv2d(6,16,3) # input 319x239 output 317x237\n",
    "        self.pool2 = nn.MaxPool2d(2,2) # input 317x237 output 158x118\n",
    "        self.conv3 = nn.Conv2d(16,6,3) # input 158x118 output 156x116\n",
    "        self.pool3 = nn.MaxPool2d(2,2) # input 156x116 output 78x58\n",
    "        self.conv4 = nn.Conv2d(6,3,3)  # input 78x58 output 76x56\n",
    "        self.pool4 = nn.MaxPool2d(2,2) # input 76x56 output 39x29\n",
    "        self.conv5 = nn.Conv2d(3,1,3)  # input 39x29 output 37x27\n",
    "        self.pool5 = nn.MaxPool2d(2,2) #output 37x27 output 18x13\n",
    "        self.lstm1 = nn.LSTM(LSTM_IO_SIZE,\n",
    "                            LSTM_HIDDEN_SIZE,\n",
    "                            TIMESTEPS)# horizontal direction\n",
    "        self.lstm2 = nn.LSTM(LSTM_IO_SIZE,\n",
    "                            LSTM_HIDDEN_SIZE,\n",
    "                            TIMESTEPS)# horizontal direction\n",
    "        self.fc1 = nn.Linear(LSTM_IO_SIZE,120)\n",
    "        self.fc2 = nn.Linear(120,20)\n",
    "        self.fc3 = nn.Linear(20,3)\n",
    "        \n",
    "        #initialize hidden states of LSTM\n",
    "        self.hidden = self.init_hidden()\n",
    "\n",
    "        #print(\"Hidden:\", _hidden)\n",
    "    def init_hidden(self):\n",
    "        return (torch.randn(TIMESTEPS, BATCH_SIZE, LSTM_HIDDEN_SIZE).to(self.avialable_device), \n",
    "                torch.randn(TIMESTEPS, BATCH_SIZE, LSTM_HIDDEN_SIZE).to(self.avialable_device))\n",
    "    def forward(self,x):\n",
    "#         print(\"Input list len:\",len(x))\n",
    "#         print(\"Input elemens size:\", x[0].size())\n",
    "#         batch_size = x[0].size()[0]\n",
    "\n",
    "        x_arr = torch.zeros(TIMESTEPS,BATCH_SIZE,1,IMAGE_AFTER_CONV_SIZE_H,IMAGE_AFTER_CONV_SIZE_W).to(self.avialable_device)\n",
    "        ## print(\"X arr size\", x_arr.size())\n",
    "        for i in range(TIMESTEPS):#parallel convolutions which are later concatenated for LSTM\n",
    "            x_tmp_c1 = self.pool1(F.relu(self.conv1(x[i].float())))\n",
    "            x_tmp_c2 = self.pool2(F.relu(self.conv2(x_tmp_c1)))\n",
    "            x_tmp_c3 = self.pool3(F.relu(self.conv3(x_tmp_c2)))\n",
    "            x_tmp_c4 = self.pool4(F.relu(self.conv4(x_tmp_c3)))\n",
    "            x_tmp_c5 = self.pool5(F.relu(self.conv5(x_tmp_c4)))\n",
    "            x_arr[i] = x_tmp_c5 # torch.squeeze(x_tmp_c5)\n",
    "        \n",
    "        x, hidden = self.lstm1(x_arr.view(TIMESTEPS,BATCH_SIZE,-1), self.hidden)\n",
    "        x, hidden = self.lstm2(x, self.hidden)\n",
    "        # the reshaping was taken from the documentation... and makes scense\n",
    "        x = x.view(TIMESTEPS,BATCH_SIZE,LSTM_HIDDEN_SIZE) #output.view(seq_len, batch, num_dir*hidden_size)\n",
    "#         x = torch.squeeze(x)\n",
    "        x = F.relu(self.fc1(x))\n",
    "        x = F.relu(self.fc2(x))\n",
    "        x = self.fc3(x) \n",
    "        x = x.permute(1,2,0)\n",
    "        return x\n",
    "print(\"Class defined\")"
   ]
  },
  {
   "cell_type": "code",
   "execution_count": 6,
   "metadata": {},
   "outputs": [],
   "source": [
    "# TODOS:\n",
    "# Look for overfitting..\n",
    "# use GPU: 300 samples. many epochs. learning rate maybe is too high.\n",
    "# Tweak learning rate\n",
    "# Increase the RNN size\n",
    "# Maybe change the CNN\n",
    "# Use patches. or OF\n",
    "# Increase the dataset: 10 images 10peoplo+++ not too much too much variance. \n",
    "# FEEDBACK on friday..:) "
   ]
  },
  {
   "cell_type": "markdown",
   "metadata": {},
   "source": [
    "### Test-Training"
   ]
  },
  {
   "cell_type": "code",
   "execution_count": 7,
   "metadata": {},
   "outputs": [
    {
     "name": "stdout",
     "output_type": "stream",
     "text": [
      "cpu\n"
     ]
    }
   ],
   "source": [
    "#TRAINING\n",
    "test_net = TEST_CNN_LSTM()\n",
    "device = torch.device(\"cuda:0\" if torch.cuda.is_available() else \"cpu\")\n",
    "print(device)\n",
    "test_net.to(device)\n",
    "criterion = nn.CrossEntropyLoss()\n",
    "#criterion = nn.BCELoss()\n",
    "optimizer = optim.SGD(test_net.parameters(), lr=learning_rate, momentum=momentum)\n"
   ]
  },
  {
   "cell_type": "code",
   "execution_count": 8,
   "metadata": {},
   "outputs": [],
   "source": [
    "### define and execute testing function\n",
    "def test_all_preds(model):\n",
    "    n_batches_test = len(test_loader)\n",
    "\n",
    "    #Time for printing\n",
    "    testing_start_time = time.time()\n",
    "\n",
    "    print('Start testing...')\n",
    "    correct = 0 \n",
    "    total = 0\n",
    "    with torch.no_grad():\n",
    "        for i, batch in enumerate(train_loader):\n",
    "            inputs, labels = batch\n",
    "            \n",
    "            data_in = [s.to(device) for s in inputs['flows']]\n",
    "            labels = labels.to(device)\n",
    "            if not labels.size()[0] == BATCH_SIZE:\n",
    "                # skip uncompleted batch size NN is fixed to BATCHSIZE\n",
    "                continue\n",
    "            outputs = model(data_in)\n",
    "#             print(\"Out:\", len(outputs), outputs.size())\n",
    "#             print(\"Labels:\", len(labels), labels.size())\n",
    "            _, predicted = torch.max(outputs.data, 1)\n",
    "#             print('predicted:',len(predicted),predicted.size())\n",
    "            n_errors = torch.nonzero(torch.abs(labels.long() - predicted)).size(0)\n",
    "            total += predicted.numel()\n",
    "            # print('predicted',predicted)\n",
    "            correct += predicted.numel() - n_errors\n",
    "            # print('labels',labels)\n",
    "    print('Accuracy {:.2f}%'.format(100*correct/total))\n",
    "    print('...testing finished')\n"
   ]
  },
  {
   "cell_type": "markdown",
   "metadata": {},
   "source": [
    "### training over all predictions"
   ]
  },
  {
   "cell_type": "code",
   "execution_count": 9,
   "metadata": {
    "scrolled": true
   },
   "outputs": [
    {
     "name": "stdout",
     "output_type": "stream",
     "text": [
      "Start training...\n",
      "Expected loss with {} different classes and {} data points: {}  (3, 4, 4.394449154672439)\n",
      "Epoch: 0\n"
     ]
    },
    {
     "name": "stderr",
     "output_type": "stream",
     "text": [
      "/home/matthias/.conda/envs/gait_37/lib/python3.7/site-packages/pandas/core/computation/expressions.py:183: UserWarning: evaluating in Python space because the '*' operator is not supported by numexpr for the bool dtype, use '&' instead\n",
      "  .format(op=op_str, alt_op=unsupported[op_str]))\n"
     ]
    },
    {
     "name": "stdout",
     "output_type": "stream",
     "text": [
      "Loss epoch 0: 4.141621470451355, took 15.0257089138031s\n",
      "Epoch: 1\n",
      "Loss epoch 1: 4.073852777481079, took 12.42219066619873s\n",
      "Epoch: 2\n",
      "Loss epoch 2: 3.97269743680954, took 11.944282531738281s\n",
      "Epoch: 3\n",
      "Loss epoch 3: 3.870367407798767, took 12.94161343574524s\n",
      "Epoch: 4\n",
      "Loss epoch 4: 3.7850934267044067, took 12.47977590560913s\n",
      "Epoch: 5\n",
      "Loss epoch 5: 3.7134406566619873, took 11.829708814620972s\n",
      "Epoch: 6\n",
      "Loss epoch 6: 3.6533865928649902, took 12.615229606628418s\n",
      "Epoch: 7\n",
      "Loss epoch 7: 3.6020764112472534, took 12.835860967636108s\n",
      "Epoch: 8\n",
      "Loss epoch 8: 3.5564024448394775, took 12.730127573013306s\n",
      "Epoch: 9\n",
      "Loss epoch 9: 3.513446569442749, took 12.820738554000854s\n",
      "Epoch: 10\n",
      "Loss epoch 10: 3.4713022708892822, took 13.207047939300537s\n",
      "Epoch: 11\n",
      "Loss epoch 11: 3.4275647401809692, took 12.264318943023682s\n",
      "Epoch: 12\n",
      "Loss epoch 12: 3.380095660686493, took 12.368423223495483s\n",
      "Epoch: 13\n",
      "Loss epoch 13: 3.326919913291931, took 12.162353038787842s\n",
      "Epoch: 14\n",
      "Loss epoch 14: 3.2665452361106873, took 12.42027759552002s\n",
      "Epoch: 15\n",
      "Loss epoch 15: 3.1986706256866455, took 12.021663904190063s\n",
      "Epoch: 16\n",
      "Loss epoch 16: 3.1219335794448853, took 12.328333377838135s\n",
      "Epoch: 17\n",
      "Loss epoch 17: 3.035791039466858, took 12.801870584487915s\n",
      "Epoch: 18\n",
      "Loss epoch 18: 2.941245436668396, took 18.90107226371765s\n",
      "Epoch: 19\n",
      "Loss epoch 19: 2.840248167514801, took 13.853075981140137s\n",
      "Epoch: 20\n",
      "Loss epoch 20: 2.734557330608368, took 12.598989248275757s\n",
      "Epoch: 21\n",
      "Loss epoch 21: 2.625640034675598, took 12.124418258666992s\n",
      "Epoch: 22\n",
      "Loss epoch 22: 2.5149494409561157, took 12.15848684310913s\n",
      "Epoch: 23\n",
      "Loss epoch 23: 2.404901087284088, took 13.619818925857544s\n",
      "Epoch: 24\n",
      "Loss epoch 24: 2.2976021766662598, took 12.212230443954468s\n",
      "Epoch: 25\n",
      "Loss epoch 25: 2.200957179069519, took 11.951244592666626s\n",
      "Epoch: 26\n",
      "Loss epoch 26: 2.112361431121826, took 12.724251747131348s\n",
      "Epoch: 27\n",
      "Loss epoch 27: 2.0309016704559326, took 12.304041862487793s\n",
      "Epoch: 28\n",
      "Loss epoch 28: 1.9622932076454163, took 12.124975681304932s\n",
      "Epoch: 29\n",
      "Loss epoch 29: 1.9017406404018402, took 11.930354118347168s\n",
      "Epoch: 30\n",
      "Loss epoch 30: 1.8479899168014526, took 12.21929931640625s\n",
      "Epoch: 31\n",
      "Loss epoch 31: 1.8003669083118439, took 12.829939126968384s\n",
      "Epoch: 32\n",
      "Loss epoch 32: 1.7580128014087677, took 12.494509935379028s\n",
      "Epoch: 33\n",
      "Loss epoch 33: 1.7205384969711304, took 12.086791515350342s\n",
      "Epoch: 34\n",
      "Loss epoch 34: 1.6874293386936188, took 11.392301321029663s\n",
      "Epoch: 35\n",
      "Loss epoch 35: 1.658118098974228, took 11.93493938446045s\n",
      "Epoch: 36\n",
      "Loss epoch 36: 1.6322796046733856, took 11.678542137145996s\n",
      "Epoch: 37\n",
      "Loss epoch 37: 1.6095589101314545, took 11.490094661712646s\n",
      "Epoch: 38\n",
      "Loss epoch 38: 1.5893615782260895, took 11.614974975585938s\n",
      "Epoch: 39\n",
      "Loss epoch 39: 1.5712209045886993, took 11.805248498916626s\n",
      "Learning rate changed 0.01\n",
      "Epoch: 40\n",
      "Loss epoch 40: 1.5635182559490204, took 11.461045026779175s\n",
      "Epoch: 41\n",
      "Loss epoch 41: 1.5574648082256317, took 11.415281772613525s\n",
      "Epoch: 42\n",
      "Loss epoch 42: 1.5476701259613037, took 11.894695281982422s\n",
      "Epoch: 43\n",
      "Loss epoch 43: 1.538268357515335, took 11.727408170700073s\n",
      "Epoch: 44\n",
      "Loss epoch 44: 1.5286323130130768, took 11.968351364135742s\n",
      "Epoch: 45\n",
      "Loss epoch 45: 1.5182276964187622, took 11.791525840759277s\n",
      "Epoch: 46\n",
      "Loss epoch 46: 1.5068884789943695, took 12.178476572036743s\n",
      "Epoch: 47\n",
      "Loss epoch 47: 1.4957923889160156, took 12.179693937301636s\n",
      "Epoch: 48\n",
      "Loss epoch 48: 1.4856203198432922, took 12.29622220993042s\n",
      "Epoch: 49\n",
      "Loss epoch 49: 1.4762201607227325, took 11.945878505706787s\n",
      "Epoch: 50\n",
      "Loss epoch 50: 1.4670269191265106, took 11.719111919403076s\n",
      "Epoch: 51\n",
      "Loss epoch 51: 1.4578232765197754, took 13.291576385498047s\n",
      "Epoch: 52\n",
      "Loss epoch 52: 1.4491035044193268, took 11.88847041130066s\n",
      "Epoch: 53\n",
      "Loss epoch 53: 1.4408720433712006, took 12.219368934631348s\n",
      "Epoch: 54\n",
      "Loss epoch 54: 1.4329251945018768, took 12.844868421554565s\n",
      "Epoch: 55\n",
      "Loss epoch 55: 1.4251467287540436, took 12.971571445465088s\n",
      "Epoch: 56\n",
      "Loss epoch 56: 1.4173775017261505, took 11.757121562957764s\n",
      "Epoch: 57\n",
      "Loss epoch 57: 1.4095973372459412, took 11.847080945968628s\n",
      "Epoch: 58\n",
      "Loss epoch 58: 1.4018838107585907, took 12.032567501068115s\n",
      "Epoch: 59\n",
      "Loss epoch 59: 1.394164264202118, took 12.3388671875s\n",
      "Epoch: 60\n",
      "Loss epoch 60: 1.38641557097435, took 12.578935146331787s\n",
      "Epoch: 61\n",
      "Loss epoch 61: 1.3782890439033508, took 12.676194429397583s\n",
      "Epoch: 62\n",
      "Loss epoch 62: 1.3696319460868835, took 12.25845718383789s\n",
      "Epoch: 63\n",
      "Loss epoch 63: 1.3602745831012726, took 12.485375165939331s\n",
      "Epoch: 64\n",
      "Loss epoch 64: 1.3510457575321198, took 12.609286546707153s\n",
      "Epoch: 65\n",
      "Loss epoch 65: 1.3418686389923096, took 11.67594313621521s\n",
      "Epoch: 66\n",
      "Loss epoch 66: 1.3324030041694641, took 11.988030195236206s\n",
      "Epoch: 67\n",
      "Loss epoch 67: 1.3227457702159882, took 11.913570880889893s\n",
      "Epoch: 68\n",
      "Loss epoch 68: 1.3121200799942017, took 12.398168563842773s\n",
      "Epoch: 69\n",
      "Loss epoch 69: 1.299747258424759, took 12.4877450466156s\n",
      "Epoch: 70\n",
      "Loss epoch 70: 1.287726253271103, took 11.780114650726318s\n",
      "Epoch: 71\n",
      "Loss epoch 71: 1.2761485576629639, took 11.453649044036865s\n",
      "Epoch: 72\n",
      "Loss epoch 72: 1.2635031044483185, took 11.524950742721558s\n",
      "Epoch: 73\n",
      "Loss epoch 73: 1.248066782951355, took 11.69999098777771s\n",
      "Epoch: 74\n",
      "Loss epoch 74: 1.230014517903328, took 11.317265510559082s\n",
      "Epoch: 75\n",
      "Loss epoch 75: 1.2142065912485123, took 11.471186399459839s\n",
      "Epoch: 76\n",
      "Loss epoch 76: 1.198166847229004, took 11.461589097976685s\n",
      "Epoch: 77\n",
      "Loss epoch 77: 1.178543046116829, took 11.84095811843872s\n",
      "Epoch: 78\n",
      "Loss epoch 78: 1.1596737056970596, took 11.822728395462036s\n",
      "Epoch: 79\n",
      "Loss epoch 79: 1.1452521830797195, took 11.480947732925415s\n",
      "Epoch: 80\n",
      "Loss epoch 80: 1.1297564655542374, took 11.49542760848999s\n",
      "Epoch: 81\n",
      "Loss epoch 81: 1.1089540868997574, took 11.380589008331299s\n",
      "Epoch: 82\n",
      "Loss epoch 82: 1.090646579861641, took 11.541949272155762s\n",
      "Epoch: 83\n",
      "Loss epoch 83: 1.0755552500486374, took 11.716227054595947s\n",
      "Epoch: 84\n",
      "Loss epoch 84: 1.054112434387207, took 11.69089150428772s\n",
      "Epoch: 85\n",
      "Loss epoch 85: 1.034471109509468, took 11.537236213684082s\n",
      "Epoch: 86\n",
      "Loss epoch 86: 1.0170311331748962, took 11.273741722106934s\n",
      "Epoch: 87\n",
      "Loss epoch 87: 0.994435042142868, took 11.340595006942749s\n",
      "Epoch: 88\n",
      "Loss epoch 88: 0.983443096280098, took 11.457887887954712s\n",
      "Epoch: 89\n",
      "Loss epoch 89: 0.9549120217561722, took 11.88015103340149s\n",
      "Epoch: 90\n",
      "Loss epoch 90: 0.9458231925964355, took 11.586885213851929s\n",
      "Epoch: 91\n",
      "Loss epoch 91: 0.9236821830272675, took 11.28516674041748s\n",
      "Epoch: 92\n",
      "Loss epoch 92: 0.9057734161615372, took 11.329062461853027s\n",
      "Epoch: 93\n",
      "Loss epoch 93: 0.8965898603200912, took 11.304803133010864s\n",
      "Epoch: 94\n",
      "Loss epoch 94: 0.8650115877389908, took 11.303299188613892s\n",
      "Epoch: 95\n",
      "Loss epoch 95: 0.8645904809236526, took 12.205601215362549s\n",
      "Epoch: 96\n",
      "Loss epoch 96: 0.8355745077133179, took 11.423066139221191s\n",
      "Epoch: 97\n",
      "Loss epoch 97: 0.8283938765525818, took 11.71049976348877s\n",
      "Epoch: 98\n",
      "Loss epoch 98: 0.8074388802051544, took 11.701234102249146s\n",
      "Epoch: 99\n",
      "Loss epoch 99: 0.7910287231206894, took 11.634534120559692s\n",
      "Start testing...\n",
      "Accuracy 95.00%\n",
      "...testing finished\n",
      "...Training finished\n"
     ]
    },
    {
     "data": {
      "text/plain": [
       "[<matplotlib.lines.Line2D at 0x7fe5ef8ccba8>]"
      ]
     },
     "execution_count": 9,
     "metadata": {},
     "output_type": "execute_result"
    },
    {
     "data": {
      "image/png": "[encoded data removed]",
      "text/plain": [
       "<Figure size 432x288 with 1 Axes>"
      ]
     },
     "metadata": {
      "needs_background": "light"
     },
     "output_type": "display_data"
    }
   ],
   "source": [
    "n_batches = len(train_loader)\n",
    "\n",
    "#Time for printing\n",
    "training_start_time = time.time()\n",
    "\n",
    "loss_array = np.zeros(NR_EPOCHS)\n",
    "\n",
    "print('Start training...')\n",
    "print('Expected loss with {} different classes and {} data points: {} ', (3, len(dataset)-split, (len(dataset)-split)*np.log(3)))\n",
    "for epoch in range(NR_EPOCHS): \n",
    "    running_loss = 0.0\n",
    "    start_time = time.time()\n",
    "    total_train_loss = 0\n",
    "    \n",
    "    if (epoch == 40):\n",
    "        learning_rate = 0.01\n",
    "        optimizer = optim.SGD(test_net.parameters(), lr=learning_rate, momentum=momentum)\n",
    "        print (\"Learning rate changed\", learning_rate)\n",
    "#     if (epoch == 80):\n",
    "#         learning_rate = 0.001\n",
    "#         optimizer = optim.SGD(test_net.parameters(), lr=learning_rate, momentum=momentum)\n",
    "#         print (\"Learning rate changed\", learning_rate)\n",
    "    \n",
    "    print(\"Epoch:\", epoch)\n",
    "    running_loss = 0.0\n",
    "    for i, batch in enumerate(train_loader): #loads all angles\n",
    "        inputs, labels = batch\n",
    "        flows = [s.to(device) for s in inputs['flows']]\n",
    "        labels = labels.unsqueeze(-1).to(device)\n",
    "        if not labels.size()[0] == BATCH_SIZE:\n",
    "            # skip uncompleted batch size NN is fixed to BATCHSIZE\n",
    "            continue\n",
    "        optimizer.zero_grad() \n",
    "        outputs = test_net(flows)\n",
    "        outputs = outputs.unsqueeze(-1)\n",
    "        #print(\"Size before permutation:\", outputs.size())\n",
    "        outputs = outputs.permute(0,2,1,3).squeeze(3).squeeze(0)\n",
    "        labels = labels.squeeze(2).squeeze(0)\n",
    "        #print(\"Out:\", len(outputs), outputs.size())\n",
    "        #print(\"Labels:\", len(labels), labels.size())\n",
    "        #print(\"Here\")\n",
    "        #print(scenes[0].squeeze(0).permute(2,1,0).size())\n",
    "        #for j in range(10):\n",
    "        #    scene_print = scenes[j].squeeze(0).permute(1,2,0)\n",
    "        #    plt.imshow(scene_print.numpy())\n",
    "        #    plt.show()\n",
    "        #print(labels)\n",
    "        loss = criterion(outputs,labels.long())\n",
    "        loss.backward() \n",
    "        optimizer.step()\n",
    "        \n",
    "        #Print statistics\n",
    "        # print(loss.data.item())\n",
    "        running_loss += loss.data.item()\n",
    "        #total_train_loss += loss.data.item()\n",
    "        \n",
    "        #Print every 10th batch of an epoch\n",
    "#         if (i + 1) % (print_every + 1) == 0:\n",
    "#             print(\"Epoch {}, {:d}% \\t train_loss(mean): {:.2f} took: {:.2f}s\".format(\n",
    "#                     epoch+1, int(100 * (i+1) / n_batches), running_loss/print_every, time.time() - start_time))\n",
    "#             #Reset running loss and time\n",
    "#             running_loss = 0.0\n",
    "#             start_time = time.time()\n",
    "    # test after each epoch\n",
    "    print(\"Loss epoch {}: {}, took {}s\".format(epoch, running_loss,time.time()-start_time))\n",
    "    loss_array[epoch] = running_loss\n",
    "\n",
    "test_all_preds(test_net)\n",
    "#print('total training loss for epoch {}: {:.6f}'.format(epoch+1, total_train_loss))    \n",
    "print('...Training finished')\n",
    "plt.plot(loss_array)"
   ]
  },
  {
   "cell_type": "markdown",
   "metadata": {},
   "source": [
    "### Expected loss for untrained set with Cross Entropy:\n",
    "k = number of classes\n",
    "N = number of labeled data in dataset\n",
    "loss_per_prediction = -log(1/k) = log(k)\n",
    "total_loss = sum(log(k)) = N*log(k)"
   ]
  },
  {
   "cell_type": "code",
   "execution_count": 10,
   "metadata": {},
   "outputs": [
    {
     "name": "stdout",
     "output_type": "stream",
     "text": [
      "Expected loss with {} different classes and {} data points: {}  (3, 4, 4.394449154672439)\n"
     ]
    }
   ],
   "source": [
    "# print(labels.size())\n",
    "# print(outputs.size())\n",
    "# print(labels)\n",
    "# print(outputs)\n",
    "# import matplotlib.pyplot as plt\n",
    "# print(scenes[0].squeeze(0).size())\n",
    "# plt.imshow(scenes[9].squeeze(0).permute(1,2,0))\n",
    "# plt.figure(figsize=(30,40))\n",
    "# print('left foot trans from air to ground')\n",
    "# plt.subplot(131)\n",
    "# plt.imshow(scenes[4])\n",
    "# plt.title('frame 44')\n",
    "# plt.subplot(132)\n",
    "# plt.imshow(scenes[5])\n",
    "# plt.title('frame 45')\n",
    "# plt.subplot(133)\n",
    "# plt.imshow(scenes[6])\n",
    "# plt.title('frame 46')\n",
    "# plt.show()\n",
    "print('Expected loss with {} different classes and {} data points: {} ', (3, len(dataset)-split, (len(dataset)-split)*np.log(3)))\n"
   ]
  }
 ],
 "metadata": {
  "kernelspec": {
   "display_name": "Python gait_36",
   "language": "python",
   "name": "gait_36"
  },
  "language_info": {
   "codemirror_mode": {
    "name": "ipython",
    "version": 3
   },
   "file_extension": ".py",
   "mimetype": "text/x-python",
   "name": "python",
   "nbconvert_exporter": "python",
   "pygments_lexer": "ipython3",
   "version": "3.7.2"
  }
 },
 "nbformat": 4,
 "nbformat_minor": 2
}
