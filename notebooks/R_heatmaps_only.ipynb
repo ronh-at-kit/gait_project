{
 "cells": [
  {
   "cell_type": "code",
   "execution_count": 1,
   "metadata": {},
   "outputs": [
    {
     "name": "stdout",
     "output_type": "stream",
     "text": [
      "done\n"
     ]
    }
   ],
   "source": [
    "import torch\n",
    "import torch.nn as nn\n",
    "import torch.nn.functional as F\n",
    "import torch.optim as optim\n",
    "from torch.utils.data import DataLoader\n",
    "\n",
    "from torch.optim import lr_scheduler\n",
    "import numpy as np\n",
    "import torchvision\n",
    "from torchvision import datasets, models, transforms\n",
    "import time\n",
    "import os\n",
    "import os.path as path\n",
    "import copy\n",
    "import matplotlib.pyplot as plt\n",
    "# from torch.utils.data.sampler import SequentialSampler\n",
    "\n",
    "\n",
    "from gait_analysis import AnnotationsCasia as Annotations\n",
    "from gait_analysis import CasiaDataset\n",
    "from gait_analysis.Config import Config\n",
    "from gait_analysis import Composer\n",
    "\n",
    "import matplotlib.pyplot as plt\n",
    "\n",
    "print(\"done\")"
   ]
  },
  {
   "cell_type": "code",
   "execution_count": 2,
   "metadata": {},
   "outputs": [],
   "source": [
    "TIMESTEPS = 40 # size videos\n"
   ]
  },
  {
   "cell_type": "code",
   "execution_count": 3,
   "metadata": {},
   "outputs": [
    {
     "name": "stdout",
     "output_type": "stream",
     "text": [
      "loading configuration  heatmaps_1\n",
      "[OK]\n",
      "Desired configuration: heatmaps_1\n"
     ]
    }
   ],
   "source": [
    "#change configuration in settings.py\n",
    "c = Config()\n",
    "c.config['indexing']['grouping'] = 'person_sequence_angle'\n",
    "c.config['transformers']['DimensionResize']['dimension'] = TIMESTEPS\n",
    "#c.config['transformers']= {\n",
    "        #'Transpose' : {'swapping': (2,1,0) , 'target': [\"scenes\"]},\n",
    "       # 'Rescale': {'output_size' : (240,320), 'target': [\"scenes\"]},\n",
    "        #'AnnotationToLabel': {'target': [\"annotations\"]},\n",
    "        #'Transpose' : {'swapping': (1,2,0) , 'target': [\"heatmaps\"]},\n",
    "        #'Rescale': {'output_size' : (240,320), 'target': [\"heatmaps\"]},\n",
    "        #'DimensionResize' : {'start': 0, 'dimension': 10, 'target': [\"heatmaps\",\"annotations\"]},\n",
    "        #'ToTensor': {'target':[\"heatmaps\",\"annotations\"]}\n",
    " #   }\n",
    "composer = Composer()\n",
    "transformer = composer.compose()\n",
    "dataset = CasiaDataset(transform=transformer)\n",
    "print(\"Desired configuration: heatmaps_1\")"
   ]
  },
  {
   "cell_type": "code",
   "execution_count": 4,
   "metadata": {},
   "outputs": [
    {
     "name": "stdout",
     "output_type": "stream",
     "text": [
      "745\n",
      "tensor([[0.9204, 0.5422],\n",
      "        [0.8879, 0.6618],\n",
      "        [0.9450, 0.7597],\n",
      "        [0.8920, 0.5449],\n",
      "        [0.8675, 0.6754],\n",
      "        [0.8737, 0.8141],\n",
      "        [0.8308, 0.8222],\n",
      "        [0.8390, 0.8357],\n",
      "        [0.8879, 0.8331],\n",
      "        [0.9307, 0.8195],\n",
      "        [0.9368, 0.8167],\n",
      "        [0.9633, 0.7677]])\n"
     ]
    }
   ],
   "source": [
    "data,_ =dataset[3]\n",
    "\n",
    "img1 = data[\"scenes\"][3]\n",
    "poses1 = data[\"poses\"]\n",
    "\n",
    "print(len(dataset))\n",
    "print(poses1[3])"
   ]
  },
  {
   "cell_type": "code",
   "execution_count": 5,
   "metadata": {},
   "outputs": [
    {
     "name": "stderr",
     "output_type": "stream",
     "text": [
      "Clipping input data to the valid range for imshow with RGB data ([0..1] for floats or [0..255] for integers).\n"
     ]
    },
    {
     "name": "stdout",
     "output_type": "stream",
     "text": [
      "torch.Size([240, 320, 3])\n"
     ]
    },
    {
     "data": {
      "text/plain": [
       "<matplotlib.image.AxesImage at 0x7fba2fc8eda0>"
      ]
     },
     "execution_count": 5,
     "metadata": {},
     "output_type": "execute_result"
    },
    {
     "data": {
      "image/png": "[encoded data removed]",
      "text/plain": [
       "<Figure size 432x288 with 1 Axes>"
      ]
     },
     "metadata": {
      "needs_background": "light"
     },
     "output_type": "display_data"
    }
   ],
   "source": [
    "#print(img1)\n",
    "testimage = img1.int()\n",
    "testimage = testimage.permute(2,1,0)\n",
    "\n",
    "#htm_test=htm1[0,:,:,].int()\n",
    "#htm_test = htm_test.transpose(1,0)\n",
    "print(testimage.shape)\n",
    "#print(htm_test.size())\n",
    "\n",
    "plt.imshow(testimage)\n",
    "\n",
    "#plt.annotate('25, 50', xy=(poses1[3][0]), xycoords='data',\n",
    "            # xytext=(0.5, 0.5), textcoords='figure fraction',\n",
    "            # arrowprops=dict(arrowstyle=\"->\"))\n",
    "#plt.scatter(25, 50, s=500, c='red', marker='o')\n",
    "#plt.imshow(htm_test, cmap='jet', alpha=0.2) # interpolation='none'"
   ]
  },
  {
   "cell_type": "code",
   "execution_count": 6,
   "metadata": {},
   "outputs": [
    {
     "name": "stdout",
     "output_type": "stream",
     "text": [
      "Dataset size: 745\n",
      "Indices size: 745\n",
      "Split: 149\n",
      "596\n",
      "149\n"
     ]
    }
   ],
   "source": [
    "VALIDATION_SPLIT = 0.2 #indicated ratio of training to validation data: 0.2 -> 20% VALIDATION data\n",
    "RANDOMIZED_SEED = 20\n",
    "SHUFFLE_DATASET = False\n",
    "\n",
    "dataset_size = len(dataset)\n",
    "indices = list(range(dataset_size))\n",
    "print(\"Dataset size:\", len(dataset))\n",
    "print(\"Indices size:\", len(indices))\n",
    "split = int(np.floor(VALIDATION_SPLIT * dataset_size))\n",
    "print(\"Split:\", split)\n",
    "if SHUFFLE_DATASET:\n",
    "    np.random.seed(RANDOMIZED_SEED)\n",
    "    np.random.shuffle(indices)\n",
    "train_indices, test_indices = indices[split:], indices[:split]\n",
    "print(len(train_indices))\n",
    "print(len(test_indices))\n",
    "\n",
    "BATCH_SIZE_TRAIN = 64 #until now just batch_size = 1\n",
    "BATCH_SIZE_TEST = 64 #until now just batch_size = 1\n",
    "\n",
    "\n",
    "train_sampler = torch.utils.data.RandomSampler(train_indices)\n",
    "test_sampler = torch.utils.data.RandomSampler(test_indices)\n",
    "\n",
    "train_loader = torch.utils.data.DataLoader(dataset, batch_size=BATCH_SIZE_TRAIN, sampler=train_sampler)\n",
    "test_loader = torch.utils.data.DataLoader(dataset, batch_size=BATCH_SIZE_TEST, sampler=test_sampler)"
   ]
  },
  {
   "cell_type": "code",
   "execution_count": 7,
   "metadata": {},
   "outputs": [
    {
     "name": "stdout",
     "output_type": "stream",
     "text": [
      "Hyperparameters defined\n"
     ]
    }
   ],
   "source": [
    "#DESIGN PARAMETERS FOR NEURAL NETWORK\n",
    "NR_LSTM_UNITS = 1 \n",
    "#htm = data[\"heatmaps\"][0]\n",
    "\n",
    "\n",
    "#LSTM_IO_SIZE = htm.size(0) * htm.size(1) * htm.size(2) \n",
    "LSTM_IO_SIZE = 24 \n",
    "\n",
    "\n",
    "\n",
    "LSTM_HIDDEN_SIZE = 2400\n",
    "\n",
    "\n",
    "#RGB_CHANNELS = 3\n",
    "\n",
    "\n",
    "SLICE_FROM_TIMESTEP = 0 #slices from timestep SLICE_FROM_TIMESTEP to the last one\n",
    "\n",
    "OUTPUT_SIZE = TIMESTEPS - SLICE_FROM_TIMESTEP\n",
    "\n",
    "NR_EPOCHS = 20\n",
    "\n",
    "learning_rate = 0.0002 # reduce factos of 10 .. some epoch later.\n",
    "momentum = 0.9\n",
    "print(\"Hyperparameters defined\")"
   ]
  },
  {
   "cell_type": "code",
   "execution_count": 8,
   "metadata": {},
   "outputs": [],
   "source": [
    "for i, batch in enumerate(train_loader):\n",
    "        inputs, labels = batch\n",
    "        break"
   ]
  },
  {
   "cell_type": "code",
   "execution_count": 9,
   "metadata": {},
   "outputs": [
    {
     "name": "stdout",
     "output_type": "stream",
     "text": [
      "torch.Size([40, 64, 12, 2])\n"
     ]
    }
   ],
   "source": [
    "test = torch.stack(inputs[\"poses\"])\n",
    "print(test.size())"
   ]
  },
  {
   "cell_type": "code",
   "execution_count": 10,
   "metadata": {},
   "outputs": [],
   "source": [
    "a = torch.Tensor([[0,1,2],[3,4,5],[6,7,8]])\n",
    "a.unsqueeze_(-1)\n",
    "a = a.expand(3,3,10)\n",
    "a = a.contiguous()\n",
    "#print(a)\n",
    "a = a.view(3,30)\n",
    "#print(a)\n",
    "\n",
    "#print(a[1,:])"
   ]
  },
  {
   "cell_type": "code",
   "execution_count": 11,
   "metadata": {},
   "outputs": [
    {
     "name": "stdout",
     "output_type": "stream",
     "text": [
      "Class defined\n"
     ]
    }
   ],
   "source": [
    "class HTM_LSTM(nn.Module):\n",
    "    def __init__(self):\n",
    "        super(HTM_LSTM, self).__init__()\n",
    "        self.avialable_device = torch.device(\"cuda:0\" if torch.cuda.is_available() else \"cpu\")\n",
    "\n",
    "        self.lstm1 = nn.LSTM(LSTM_IO_SIZE,\n",
    "                            LSTM_HIDDEN_SIZE)# horizontal direction\n",
    "        \n",
    "        self.lstm2 = nn.LSTM(LSTM_HIDDEN_SIZE,\n",
    "                            LSTM_HIDDEN_SIZE)# horizontal direction\n",
    "#         self.lstm2 = nn.LSTM(LSTM_IO_SIZE,\n",
    "#                             LSTM_HIDDEN_SIZE,\n",
    "#                             TIMESTEPS)# horizontal direction\n",
    "        #self.fc1 = nn.Linear(LSTM_HIDDEN_SIZE * OUTPUT_SIZE,10000)\n",
    "        self.fc1 = nn.Linear(OUTPUT_SIZE * 24,2048)\n",
    "        self.bn1 = nn.BatchNorm1d(2048)\n",
    "        self.fc2 = nn.Linear(2048, 1024)\n",
    "        self.bn2 = nn.BatchNorm1d(1024)\n",
    "        self.fc3 = nn.Linear(1024,512)\n",
    "        self.bn3 = nn.BatchNorm1d(512)\n",
    "        self.fc4 = nn.Linear(512,256)\n",
    "        self.bn4 = nn.BatchNorm1d(256)\n",
    "        self.fc5 = nn.Linear(256,3*OUTPUT_SIZE)\n",
    "        \n",
    "        self.dropout = nn.Dropout(p=0.5)\n",
    "        \n",
    "        #initialize hidden states of LSTM\n",
    "        #self.hidden = self.init_hidden()\n",
    "\n",
    "        #print(\"Hidden:\", _hidden)\n",
    "    #def init_hidden(self):\n",
    "    #   return (torch.randn(TIMESTEPS, BATCH_SIZE, LSTM_HIDDEN_SIZE).to(self.avialable_device), \n",
    "    #          torch.randn(TIMESTEPS, BATCH_SIZE, LSTM_HIDDEN_SIZE).to(self.avialable_device))\n",
    "    def forward(self,x):\n",
    "\n",
    "        x_arr = torch.stack(x)\n",
    "\n",
    "        #print(x_arr[:,0,:,:])\n",
    "        #x1, hidden = self.lstm1(x_arr.view(x_arr.size(0),x_arr.size(1),-1))\n",
    "        #x1, hidden = self.lstm2(x1)\n",
    "        #x1 = x1.view(x_arr.size(0),x_arr.size(1),LSTM_HIDDEN_SIZE) #output.view(seq_len, batch, num_dir*hidden_size)\n",
    "        #print('-----------------')\n",
    "        #print(x1.size())\n",
    "        #x1 = x1[SLICE_FROM_TIMESTEP:TIMESTEPS,:,:]\n",
    "        x1 = x_arr[SLICE_FROM_TIMESTEP:TIMESTEPS,:,:]\n",
    "        \n",
    "        x1 = x1.permute(1,0,2,3)\n",
    "        #print(x1.size())\n",
    "        x1 = x1.contiguous()\n",
    "        #print(x1.size())\n",
    "        x1 = x1.view(x1.size(0),-1)\n",
    "        #print(x1.size())\n",
    "        #         x = torch.squeeze(x)\n",
    "        x1 = self.dropout(F.selu(self.bn1(self.fc1(x1))))\n",
    "        x1 = self.dropout(F.selu(self.bn2(self.fc2(x1))))\n",
    "        x1 = self.dropout(F.selu(self.bn3(self.fc3(x1))))\n",
    "        x1 = self.dropout(F.selu(self.bn4(self.fc4(x1))))\n",
    "        x1 = self.fc5(x1) \n",
    "        \n",
    "        #print(x1.size())\n",
    "        x1 = x1.view(x1.size(0),3,OUTPUT_SIZE)\n",
    "        #print(x1.size())\n",
    "        #print('-----------------')\n",
    "        #print (\"Size network output\", x1.shape)\n",
    "        return x1\n",
    "print(\"Class defined\")"
   ]
  },
  {
   "cell_type": "code",
   "execution_count": 12,
   "metadata": {},
   "outputs": [
    {
     "name": "stdout",
     "output_type": "stream",
     "text": [
      "cuda:0\n"
     ]
    }
   ],
   "source": [
    "#TRAINING\n",
    "test_net = HTM_LSTM()\n",
    "device = torch.device(\"cuda:0\" if torch.cuda.is_available() else \"cpu\")\n",
    "print(device)\n",
    "test_net.to(device)\n",
    "criterion = nn.CrossEntropyLoss()\n",
    "optimizer = optim.Adam(test_net.parameters(), lr=learning_rate)"
   ]
  },
  {
   "cell_type": "code",
   "execution_count": 13,
   "metadata": {},
   "outputs": [
    {
     "name": "stdout",
     "output_type": "stream",
     "text": [
      "Start training...\n",
      "Expected loss with 3 different classes and 596 data elements: 654.7729240461935\n",
      "Batch size: 64\n",
      "Evaluating first element...\n",
      "Time steps:40, input sequence length:40\n",
      "Expected output format: [BATCH, NR_CLASSES, TIMESTEPS]\n",
      "Output format: 64 torch.Size([64, 3, 40])\n",
      "Expected label format: [BATCH, TIMESTEPS] (with int-label each element indicating the correct one)\n",
      "Labels: 64 torch.Size([64, 40])\n",
      "Slicing loss. Using loss from: 0 to 40\n",
      "Loss:1.182833194732666, expected loss:1.0986122886681098\n",
      "Time needed:30.60592770576477s\n",
      "Expected loss for total training data:  654.7729240461935\n",
      "Expected training time per epoch:5.100987950960795 min\n",
      "Estimated total training time:1.7003293169869318 hours\n"
     ]
    }
   ],
   "source": [
    "#PREPARATION FOR TRAINING\n",
    "loss_array = []\n",
    "learning_rate_array = []\n",
    "\n",
    "print('Start training...')\n",
    "print(\"Expected loss with {} different classes and {} data elements: {}\".format(3, len(dataset)-split, (len(dataset)-split)*np.log(3)))\n",
    "running_loss = 0.0\n",
    "#print(\"Data set length:\", len((train_loader)), \"Validation length:\", len(test_loader))\n",
    "print(\"Batch size:\", BATCH_SIZE_TRAIN)\n",
    "print(\"Evaluating first element...\")\n",
    "start_time = time.time()\n",
    "i, batch = next(iter(enumerate(train_loader)))\n",
    "inputs, labels = batch\n",
    "data_in = [s.to(device) for s in inputs['poses']]\n",
    "labels = labels.to(device)\n",
    "print(\"Time steps:{}, input sequence length:{}\".format(TIMESTEPS,len(data_in)))\n",
    "#print(\"NN input: \",len(flows),len(flows[0]),len(flows[0][0]),len(flows[0][0][0]),len(flows[0][0][0][0]))\n",
    "optimizer.zero_grad() \n",
    "outputs = test_net(data_in)\n",
    "print(\"Expected output format: [BATCH, NR_CLASSES, TIMESTEPS]\")\n",
    "print(\"Output format:\", len(outputs), outputs.size())\n",
    "print(\"Expected label format: [BATCH, TIMESTEPS] (with int-label each element indicating the correct one)\")\n",
    "print(\"Labels:\", len(labels), labels.size())\n",
    "print(\"Slicing loss. Using loss from:\",SLICE_FROM_TIMESTEP,\"to\",TIMESTEPS)\n",
    "#print(\"Labels content:\", labels)\n",
    "#original: loss = criterion(outputs.float(),labels.long())\n",
    "loss = criterion(outputs.float(),labels[:,SLICE_FROM_TIMESTEP:TIMESTEPS].long())\n",
    "loss.backward() \n",
    "optimizer.step()\n",
    "\n",
    "running_loss += loss.data.item()\n",
    "elapsed_time = time.time() - start_time;\n",
    "loss_array.append(running_loss)\n",
    "learning_rate_array.append(learning_rate)\n",
    "print(\"Loss:{}, expected loss:{}\".format(running_loss, np.log(3)))\n",
    "print(\"Time needed:{}s\".format(elapsed_time))\n",
    "print(\"Expected loss for total training data: \", (len(dataset)-split)*np.log(3))\n",
    "print(\"Expected training time per epoch:{} min\".format(elapsed_time* len(train_loader)/60))\n",
    "print(\"Estimated total training time:{} hours\".format(elapsed_time* len(train_loader)*NR_EPOCHS/3600))"
   ]
  },
  {
   "cell_type": "code",
   "execution_count": 16,
   "metadata": {},
   "outputs": [
    {
     "name": "stdout",
     "output_type": "stream",
     "text": [
      "Epoch: 0\n",
      "Loss epoch 0: 0.29197110805735493, took 357.08432126045227s\n",
      "Accuracy epoch 0: 0.8859479865771812\n",
      "Accuracytest set: 0.9055369127516778\n",
      "Epoch: 1\n",
      "Loss epoch 1: 0.2793376145746884, took 354.98230934143066s\n",
      "Accuracy epoch 1: 0.8940855704697986\n",
      "Accuracytest set: 0.8493288590604027\n",
      "Epoch: 2\n",
      "Loss epoch 2: 0.2818819385446958, took 367.25947666168213s\n",
      "Accuracy epoch 2: 0.8916107382550336\n",
      "Accuracytest set: 0.7308724832214765\n",
      "Epoch: 3\n",
      "Loss epoch 3: 0.27268858663987794, took 354.5110192298889s\n",
      "Accuracy epoch 3: 0.8956795302013423\n",
      "Accuracytest set: 0.7315436241610738\n",
      "Epoch: 4\n",
      "Loss epoch 4: 0.26812165865562104, took 355.1370298862457s\n",
      "Accuracy epoch 4: 0.8941275167785234\n",
      "Accuracytest set: 0.7944630872483222\n",
      "Epoch: 5\n",
      "Loss epoch 5: 0.28208883176713984, took 358.8729190826416s\n",
      "Accuracy epoch 5: 0.8893456375838926\n",
      "Accuracytest set: 0.7451342281879194\n",
      "Epoch: 6\n",
      "Loss epoch 6: 0.27968981802063503, took 366.6542570590973s\n",
      "Accuracy epoch 6: 0.8878775167785234\n",
      "Accuracytest set: 0.8491610738255033\n",
      "Epoch: 7\n",
      "Loss epoch 7: 0.2731346558004418, took 365.1265857219696s\n",
      "Accuracy epoch 7: 0.8917785234899328\n",
      "Accuracytest set: 0.8887583892617449\n",
      "Epoch: 8\n",
      "Loss epoch 8: 0.2671138462204261, took 366.73474740982056s\n",
      "Accuracy epoch 8: 0.8946308724832214\n",
      "Accuracytest set: 0.7932885906040268\n",
      "Epoch: 9\n",
      "Loss epoch 9: 0.270503833989969, took 364.16021823883057s\n",
      "Accuracy epoch 9: 0.892994966442953\n",
      "Accuracytest set: 0.8313758389261745\n",
      "Epoch: 10\n",
      "Loss epoch 10: 0.26478741152974583, took 360.5879626274109s\n",
      "Accuracy epoch 10: 0.8950922818791945\n",
      "Accuracytest set: 0.6877516778523489\n",
      "Epoch: 11\n",
      "Loss epoch 11: 0.2687972566025369, took 450.94761872291565s\n",
      "Accuracy epoch 11: 0.895469798657718\n",
      "Accuracytest set: 0.5451342281879195\n",
      "Epoch: 12\n",
      "Loss epoch 12: 0.2692627944802278, took 464.58853673934937s\n",
      "Accuracy epoch 12: 0.8911073825503355\n",
      "Accuracytest set: 0.7006711409395973\n",
      "Epoch: 13\n",
      "Loss epoch 13: 0.26834681450120557, took 458.3003625869751s\n",
      "Accuracy epoch 13: 0.893246644295302\n",
      "Accuracytest set: 0.8016778523489932\n",
      "Epoch: 14\n",
      "Loss epoch 14: 0.25530613308784944, took 453.59007930755615s\n",
      "Accuracy epoch 14: 0.898238255033557\n",
      "Accuracytest set: 0.8689597315436242\n",
      "Epoch: 15\n",
      "Loss epoch 15: 0.25988133181661566, took 456.68492364883423s\n",
      "Accuracy epoch 15: 0.8966862416107382\n",
      "Accuracytest set: 0.734731543624161\n",
      "Epoch: 16\n",
      "Loss epoch 16: 0.26474049887401147, took 444.66406893730164s\n",
      "Accuracy epoch 16: 0.8953020134228188\n",
      "Accuracytest set: 0.734731543624161\n",
      "Epoch: 17\n",
      "Loss epoch 17: 0.27274936677625516, took 445.60811257362366s\n",
      "Accuracy epoch 17: 0.8898070469798657\n",
      "Accuracytest set: 0.6453020134228188\n",
      "Epoch: 18\n",
      "Loss epoch 18: 0.26572836725503807, took 451.7321865558624s\n",
      "Accuracy epoch 18: 0.8956795302013423\n",
      "Accuracytest set: 0.7785234899328859\n",
      "Epoch: 19\n",
      "Loss epoch 19: 0.2634048677930896, took 444.03083753585815s\n",
      "Accuracy epoch 19: 0.8946728187919463\n",
      "Accuracytest set: 0.7270134228187919\n",
      "...Training finished\n"
     ]
    },
    {
     "data": {
      "text/plain": [
       "[<matplotlib.lines.Line2D at 0x7fba2c6beba8>]"
      ]
     },
     "execution_count": 16,
     "metadata": {},
     "output_type": "execute_result"
    },
    {
     "data": {
      "image/png": "[encoded data removed]",
      "text/plain": [
       "<Figure size 432x288 with 1 Axes>"
      ]
     },
     "metadata": {
      "needs_background": "light"
     },
     "output_type": "display_data"
    }
   ],
   "source": [
    "for epoch in range(NR_EPOCHS): \n",
    "    running_loss = 0.0\n",
    "    running_corrects = 0.0\n",
    "    start_time = time.time()\n",
    "    print(\"Epoch:\", epoch)\n",
    "    running_loss = 0.0\n",
    "    test_net.train()\n",
    "    \n",
    "    for i, batch in enumerate(train_loader):\n",
    "        \n",
    "        inputs, labels = batch\n",
    "        data_in = [s.to(device) for s in inputs['poses']]\n",
    "        labels = labels.to(device)\n",
    "        \n",
    "        #print(labels)\n",
    "        \n",
    "        optimizer.zero_grad() \n",
    "        \n",
    "        outputs = test_net(data_in)\n",
    "        #print(outputs.size())\n",
    "\n",
    "       \n",
    "        _, preds = torch.max(outputs, 1)\n",
    "        \n",
    "        #print(outputs[0,:,SLICE_FROM_TIMESTEP:TIMESTEPS])\n",
    "       \n",
    "        \n",
    "        #print(outputs.size(),'...',labels.size())\n",
    "        loss = criterion(outputs[0:labels.size(0),:,:].float(),labels[:,SLICE_FROM_TIMESTEP:TIMESTEPS].long())\n",
    "        loss.backward() \n",
    "        optimizer.step()\n",
    "        \n",
    "        running_loss += loss.data.item()*(data_in[0].size(0))\n",
    "        running_corrects += torch.sum(preds.long() == labels[:,SLICE_FROM_TIMESTEP:TIMESTEPS].long())\n",
    "       \n",
    "        #print(running_corrects)\n",
    "        #print(preds.long())\n",
    "\n",
    "        #print(labels[:,SLICE_FROM_TIMESTEP:TIMESTEPS].long())\n",
    "        #print(test_net.fc3.weight.data.size())\n",
    "        #print(test_net.fc3.weight.grad)\n",
    "        \n",
    "    \n",
    "    \n",
    "    test_net.eval()\n",
    "    test_corrects = 0.0\n",
    "    \n",
    "    for i, batch in enumerate(test_loader):\n",
    "\n",
    "        inputs, labels = batch\n",
    "        data_in = [s.to(device) for s in inputs['poses']]\n",
    "        labels = labels.to(device)\n",
    "        \n",
    "        outputs = test_net(data_in)\n",
    "       \n",
    "        _, preds = torch.max(outputs, 1)\n",
    "        \n",
    "        loss = criterion(outputs[0:labels.size(0),:,:].float(),labels[:,SLICE_FROM_TIMESTEP:TIMESTEPS].long())\n",
    "        \n",
    "        test_corrects += torch.sum(preds.long() == labels[:,SLICE_FROM_TIMESTEP:TIMESTEPS].long())\n",
    "       \n",
    "    \n",
    "    epoch_loss = running_loss / len(train_indices)\n",
    "    epoch_acc = running_corrects.double() / (len(train_indices)*(TIMESTEPS - SLICE_FROM_TIMESTEP))\n",
    "    print(\"Loss epoch {}: {}, took {}s\".format(epoch, epoch_loss,time.time()-start_time))\n",
    "    print(\"Accuracy epoch {}: {}\".format(epoch, epoch_acc))\n",
    "    test_accuracy = test_corrects.double() / (len(test_indices)*(TIMESTEPS - SLICE_FROM_TIMESTEP))\n",
    "    print(\"Accuracytest set: {}\".format(test_accuracy))\n",
    "    loss_array.append(running_loss)\n",
    "    learning_rate_array.append(learning_rate)\n",
    "\n",
    "#test_all_preds(test_net) \n",
    "print('...Training finished')\n",
    "plt.plot(loss_array)"
   ]
  },
  {
   "cell_type": "code",
   "execution_count": null,
   "metadata": {},
   "outputs": [],
   "source": [
    "#torch.save(test_net.state_dict(), '/home/ron/PycharmProjects/Gait2019/trained_models/test.pth')"
   ]
  },
  {
   "cell_type": "code",
   "execution_count": null,
   "metadata": {},
   "outputs": [],
   "source": [
    "test = test_net.fc3.weight.grad\n",
    "test = test.cpu()\n",
    "plt.imshow(test.float())"
   ]
  },
  {
   "cell_type": "code",
   "execution_count": null,
   "metadata": {},
   "outputs": [],
   "source": [
    "image_list_ch_0 = []\n",
    "image_list_ch_1 = []ch_2 = []\n",
    "for a,data in enumerate\n",
    "image_list_(dataset):\n",
    "    print(a)\n",
    "Epoch: 8\n",
    "Type Markdown and LaTeX:  α2 \n",
    "\n",
    "​\n",
    "\n",
    "test = test_net.fc3.weight.grad\n",
    "test = test.cpu()\n",
    "test = test_net.fc3.weight.grad\n",
    "test = test.cpu()\n",
    "plt.imshow(test.float())\n",
    "\n",
    "ch_2 = []\n",
    "for a,data in enumerate\n",
    "image_list_ch_0 = []\n",
    "image_list_ch_1 = []ch_2 = []\n",
    "for a,data in enumerate\n",
    "image_list_(dataset):\n",
    "    print(a)\n",
    "    for image in data[0]['poses']:        \n",
    "        image_list_ch_0.append(image[0].numpy())\n",
    "        #image_list_ch_1.append(image[1].numpy())\n",
    "        #image_list_ch_2.append(image[2].numpy())\n",
    "print(\"List of channels created\")\n",
    "mean = [np.mean(image_list_ch_0)]\n",
    "std_dev = np.sqrt([np.var(image_list_ch_0)])\n",
    "\n",
    "print(mean)\n",
    "    for image in data[0]['poses']:        \n",
    "        image_list_ch_0.append(image[0].numpy())\n",
    "        #image_list_ch_1.append(image[1].numpy())\n",
    "        #image_list_ch_2.append(image[2].numpy())\n",
    "print(\"List of channels created\")\n",
    "mean = [np.mean(image_list_ch_0)]\n",
    "std_dev = np.sqrt([np.var(image_list_ch_0)])"
   ]
  },
  {
   "cell_type": "code",
   "execution_count": null,
   "metadata": {},
   "outputs": [],
   "source": [
    "print(mean)"
   ]
  },
  {
   "cell_type": "code",
   "execution_count": null,
   "metadata": {},
   "outputs": [],
   "source": [
    "print(std_dev)"
   ]
  },
  {
   "cell_type": "code",
   "execution_count": null,
   "metadata": {},
   "outputs": [],
   "source": []
  }
 ],
 "metadata": {
  "kernelspec": {
   "display_name": "Python 3",
   "language": "python",
   "name": "python3"
  },
  "language_info": {
   "codemirror_mode": {
    "name": "ipython",
    "version": 3
   },
   "file_extension": ".py",
   "mimetype": "text/x-python",
   "name": "python",
   "nbconvert_exporter": "python",
   "pygments_lexer": "ipython3",
   "version": "3.7.1"
  }
 },
 "nbformat": 4,
 "nbformat_minor": 2
}
