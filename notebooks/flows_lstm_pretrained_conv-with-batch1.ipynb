{
 "cells": [
  {
   "cell_type": "code",
   "execution_count": 1,
   "metadata": {},
   "outputs": [
    {
     "name": "stdout",
     "output_type": "stream",
     "text": [
      "Settings.py should be e.g. cnn_flows_prtrain\n",
      "Hyperparameters defined\n",
      "Bug with learning rate when sequence length is not the same for each element of the dataset\n"
     ]
    }
   ],
   "source": [
    "print(\"Settings.py should be e.g. cnn_flows_prtrain\")\n",
    "#DESIGN PARAMETERS FOR NEURAL NETWORK\n",
    "\n",
    "VALIDATION_SPLIT = 0.5 #indicated ratio of training to validation data: 0.2 -> 20% VALIDATION data\n",
    "RANDOMIZED_SEED = 20\n",
    "SHUFFLE_DATASET = False\n",
    "\n",
    "TRAINING_PREPARATION = False\n",
    "\n",
    "BATCH_SIZE = 1\n",
    "TIME_STEPS = 40\n",
    "\n",
    "SLICE_FROM_TIME_STEP = 0 #slices from timestep SLICE_FROM_TIMESTEP to the last one\n",
    "\n",
    "NR_EPOCHS = 200\n",
    "\n",
    "LR = 0.0001\n",
    "print(\"Hyperparameters defined\")\n",
    "print(\"Bug with learning rate when sequence length is not the same for each element of the dataset\")"
   ]
  },
  {
   "cell_type": "code",
   "execution_count": 2,
   "metadata": {},
   "outputs": [
    {
     "name": "stdout",
     "output_type": "stream",
     "text": [
      "done\n"
     ]
    }
   ],
   "source": [
    "import torch\n",
    "import torch.nn as nn\n",
    "import torch.optim as optim\n",
    "\n",
    "import numpy as np\n",
    "import time\n",
    "import os\n",
    "import os.path as path\n",
    "import copy\n",
    "\n",
    "from gait_analysis import AnnotationsCasia as Annotations\n",
    "from gait_analysis import CasiaDataset\n",
    "from gait_analysis.Config import Config\n",
    "from gait_analysis import Composer\n",
    "from gait_analysis import WeightWatcher\n",
    "from gait_analysis import AccuracyTrackerTrainTest\n",
    "\n",
    "import matplotlib.pyplot as plt\n",
    "\n",
    "from gait_analysis.Models import PretrainConvFlow\n",
    "from gait_analysis.Models.TransferConvLSTMFlow import TransferConvLSTMFlow\n",
    "\n",
    "print(\"done\")\n",
    "%matplotlib inline"
   ]
  },
  {
   "cell_type": "code",
   "execution_count": 3,
   "metadata": {},
   "outputs": [
    {
     "name": "stdout",
     "output_type": "stream",
     "text": [
      "TODO: doesn't x = x.view(BATCH_SIZE,TIME_STEPS*LSTM_HIDDEN_FEATURES) mix up batch size order?\n",
      "TODO: BATCH_SIZE is currently fixed and one\n",
      "TODO: Is x_arr in device?\n",
      "cuda:0\n"
     ]
    }
   ],
   "source": [
    "net = TransferConvLSTMFlow()\n",
    "device = torch.device(\"cuda:0\" if torch.cuda.is_available() else \"cpu\")\n",
    "print(device)\n",
    "net.to(device)\n",
    "criterion = nn.CrossEntropyLoss()\n",
    "optimizer = optim.Adam(net.parameters(), lr=LR)\n",
    "\n",
    "# monitor = WeightWatcher(net,['conv5','fc1'])\n",
    "tt_acc_tracker = AccuracyTrackerTrainTest([0,1,2])"
   ]
  },
  {
   "cell_type": "code",
   "execution_count": 4,
   "metadata": {},
   "outputs": [
    {
     "name": "stdout",
     "output_type": "stream",
     "text": [
      "loading configuration  cnn_flows_pretrain\n",
      "[OK]\n"
     ]
    }
   ],
   "source": [
    "#change configuration in settings.py\n",
    "c = Config()\n",
    "c.config['indexing']['grouping'] = 'person_sequence_angle'\n",
    "# c.config['transformers']['DimensionResize']['dimension'] = TIME_STEPS\n",
    "# #c.config['indexing']['people selection'] = [1]\n",
    "# #c.config['indexing']['sequences_selection'] = ['nm-01']\n",
    "# c.config['pose']['load'] = False\n",
    "# c.config['flow']['load'] = True\n",
    "# c.config['heatmaps']['load'] = False\n",
    "# #c.config['scenes']['sequences'] = ['nm']\n",
    "# #c.config['scenes']['angles'] = ['108']\n",
    "# c.config['dataset_output'] = {\n",
    "# #         'data': [\"scenes\",\"flows\",\"heatmaps_LAnkle\",\"heatmaps_RAnkle\"],\n",
    "#         'data': ['flows'],\n",
    "#         'label': \"annotations\"}\n",
    "composer = Composer()\n",
    "transformer = composer.compose()\n",
    "dataset = CasiaDataset(transform=transformer)"
   ]
  },
  {
   "cell_type": "code",
   "execution_count": 5,
   "metadata": {},
   "outputs": [
    {
     "name": "stdout",
     "output_type": "stream",
     "text": [
      "Dataset size: 1655\n",
      "Indices size: 1655\n",
      "Split: 827\n"
     ]
    }
   ],
   "source": [
    "dataset_size = len(dataset)\n",
    "indices = list(range(dataset_size))\n",
    "print(\"Dataset size:\", len(dataset))\n",
    "print(\"Indices size:\", len(indices))\n",
    "split = int(np.floor(VALIDATION_SPLIT * dataset_size))\n",
    "print(\"Split:\", split)\n",
    "if SHUFFLE_DATASET:\n",
    "    np.random.seed(RANDOMIZED_SEED)\n",
    "    np.random.shuffle(indices)\n",
    "train_indices, test_indices = indices[split:], indices[:split]\n",
    "train_sampler = torch.utils.data.SequentialSampler(train_indices)\n",
    "test_sampler = torch.utils.data.SequentialSampler(test_indices)\n",
    "\n",
    "train_loader = torch.utils.data.DataLoader(dataset, batch_size=BATCH_SIZE, sampler=train_sampler)\n",
    "test_loader = torch.utils.data.DataLoader(dataset, batch_size=BATCH_SIZE, sampler=test_sampler)"
   ]
  },
  {
   "cell_type": "code",
   "execution_count": 6,
   "metadata": {},
   "outputs": [
    {
     "name": "stdout",
     "output_type": "stream",
     "text": [
      "people selection from:  40  to  124\n"
     ]
    }
   ],
   "source": [
    "print('people selection from: ', c.config['indexing']['people_selection'][0],' to ', c.config['indexing']['people_selection'][-1])"
   ]
  },
  {
   "cell_type": "code",
   "execution_count": 7,
   "metadata": {},
   "outputs": [],
   "source": [
    "# #PREPARATION FOR TRAINING\n",
    "# loss_array = []\n",
    "# learning_rate_array = []\n",
    "\n",
    "# print('Start training...')\n",
    "# print(\"Expected loss with {} different classes and {} data elements: {}\".format(3, len(dataset)-split, (len(dataset)-split)*np.log(3)))\n",
    "# running_loss = 0.0\n",
    "# #print(\"Data set length:\", len((train_loader)), \"Validation length:\", len(test_loader))\n",
    "# print(\"Batch size:\", BATCH_SIZE)\n",
    "# print(\"Evaluating first element...\")\n",
    "# start_time = time.time()\n",
    "# i, batch = next(iter(enumerate(train_loader)))\n",
    "# inputs, labels = batch\n",
    "# data_in = [s.to(device) for s in inputs['flows']]\n",
    "# # print(\"Data in original\", data_in)\n",
    "\n",
    "\n",
    "# # print(\"Proof for normalized data:\", data_in[0][0])\n",
    "# labels = labels.to(device)\n",
    "# print(\"Time steps:{}, input sequence length:{}\".format(TIME_STEPS,len(data_in)))\n",
    "# #print(\"NN input: \",len(flows),len(flows[0]),len(flows[0][0]),len(flows[0][0][0]),len(flows[0][0][0][0]))\n",
    "# optimizer.zero_grad() \n",
    "# outputs = net(data_in)\n",
    "# print(\"Expected output format: [BATCH, NR_CLASSES, TIMESTEPS]\")\n",
    "# # print(\"Output format:\", len(outputs), outputs.size())\n",
    "# print(\"Expected label format: [BATCH, TIMESTEPS] (with int-label as each element indicating the correct one)\")\n",
    "# # print(\"Labels:\", len(labels), labels.size())\n",
    "# # print(\"Slicing loss. Using loss from:\",SLICE_FROM_TIME_STEP,\"to\",TIME_STEPS)\n",
    "# print(\"Final label: \",labels[:,SLICE_FROM_TIME_STEP:TIME_STEPS].size())\n",
    "# print(\"Final output:\", outputs[:,:,SLICE_FROM_TIME_STEP:TIME_STEPS].size())\n",
    "# # print(\"Labels content:\", labels)\n",
    "# labels = labels.squeeze(0)\n",
    "# outputs = outputs.squeeze(0)\n",
    "# print(\"Dimensions:\",\"Labels\",labels.size(),\"Pred\",outputs.size())\n",
    "# # before: loss = criterion(outputs[:,:,SLICE_FROM_TIME_STEP:TIME_STEPS].float(),labels[:,SLICE_FROM_TIME_STEP:TIME_STEPS].long())\n",
    "# loss = criterion(outputs[SLICE_FROM_TIME_STEP:TIME_STEPS,:].float(),labels[SLICE_FROM_TIME_STEP:TIME_STEPS].long())\n",
    "# loss.backward() \n",
    "# optimizer.step()\n",
    "\n",
    "# running_loss += loss.data.item()\n",
    "# elapsed_time = time.time() - start_time;\n",
    "# loss_array.append(running_loss)\n",
    "# learning_rate_array.append(LR)\n",
    "# print(\"Loss:{}, expected loss:{}\".format(running_loss, np.log(3)))\n",
    "# print(\"Time needed:{}s\".format(elapsed_time))\n",
    "# print(\"Expected loss for total training data: \", (len(dataset)-split)*np.log(3))\n",
    "# print(\"Expected training time per epoch:{} min\".format(elapsed_time* len(train_loader)/60))\n",
    "# print(\"Estimated total training time:{} hours\".format(elapsed_time* len(train_loader)*NR_EPOCHS/3600))"
   ]
  },
  {
   "cell_type": "code",
   "execution_count": null,
   "metadata": {},
   "outputs": [
    {
     "name": "stdout",
     "output_type": "stream",
     "text": [
      "Start training...\n",
      "Patch: repeat last image on missing flow file\n",
      "Patch: repeat last image on missing flow file\n",
      "Patch: repeat last image on missing flow file\n",
      "Patch: repeat last image on missing flow file\n",
      "Patch: repeat last image on missing flow file\n",
      "Patch: repeat last image on missing flow file\n",
      "Patch: repeat last image on missing flow file\n",
      "Patch: repeat last image on missing flow file\n",
      "Patch: repeat last image on missing flow file\n",
      "Patch: repeat last image on missing flow file\n",
      "Patch: repeat last image on missing flow file\n",
      "Patch: repeat last image on missing flow file\n",
      "Patch: repeat last image on missing flow file\n",
      "Patch: repeat last image on missing flow file\n",
      "Patch: repeat last image on missing flow file\n",
      "Patch: repeat last image on missing flow file\n",
      "Patch: repeat last image on missing flow file\n",
      "Patch: repeat last image on missing flow file\n",
      "Patch: repeat last image on missing flow file\n",
      "Patch: repeat last image on missing flow file\n",
      "Patch: repeat last image on missing flow file\n",
      "Patch: repeat last image on missing flow file\n",
      "-----------------------------\n",
      "Epoch 0: Loss [1.003391716847606,0.7860072586111434], Acc [0.536,0.754] took 261.37s\n",
      "Accuracy by class [[0.75, 0.518, 0.374],[0.754, 0.654, 0.841]] Total elements: [[10112, 10756, 12252],[10101, 10745, 12234]]\n",
      "Patch: repeat last image on missing flow file\n",
      "Patch: repeat last image on missing flow file\n",
      "Patch: repeat last image on missing flow file\n",
      "Patch: repeat last image on missing flow file\n",
      "Patch: repeat last image on missing flow file\n",
      "Patch: repeat last image on missing flow file\n",
      "Patch: repeat last image on missing flow file\n",
      "Patch: repeat last image on missing flow file\n",
      "Patch: repeat last image on missing flow file\n",
      "Patch: repeat last image on missing flow file\n",
      "Patch: repeat last image on missing flow file\n",
      "Patch: repeat last image on missing flow file\n",
      "Patch: repeat last image on missing flow file\n",
      "Patch: repeat last image on missing flow file\n",
      "Patch: repeat last image on missing flow file\n",
      "Patch: repeat last image on missing flow file\n",
      "Patch: repeat last image on missing flow file\n",
      "Patch: repeat last image on missing flow file\n",
      "Patch: repeat last image on missing flow file\n",
      "Patch: repeat last image on missing flow file\n",
      "Patch: repeat last image on missing flow file\n",
      "Patch: repeat last image on missing flow file\n",
      "-----------------------------\n",
      "Epoch 1: Loss [0.6362952312674044,0.5343821931461555], Acc [0.786,0.809] took 259.61s\n",
      "Accuracy by class [[0.771, 0.733, 0.844],[0.817, 0.756, 0.848]] Total elements: [[10112, 10756, 12252],[10101, 10745, 12234]]\n",
      "Patch: repeat last image on missing flow file\n",
      "Patch: repeat last image on missing flow file\n",
      "Patch: repeat last image on missing flow file\n",
      "Patch: repeat last image on missing flow file\n",
      "Patch: repeat last image on missing flow file\n",
      "Patch: repeat last image on missing flow file\n",
      "Patch: repeat last image on missing flow file\n",
      "Patch: repeat last image on missing flow file\n",
      "Patch: repeat last image on missing flow file\n",
      "Patch: repeat last image on missing flow file\n",
      "Patch: repeat last image on missing flow file\n",
      "Patch: repeat last image on missing flow file\n",
      "Patch: repeat last image on missing flow file\n",
      "Patch: repeat last image on missing flow file\n",
      "Patch: repeat last image on missing flow file\n",
      "Patch: repeat last image on missing flow file\n",
      "Patch: repeat last image on missing flow file\n",
      "Patch: repeat last image on missing flow file\n",
      "Patch: repeat last image on missing flow file\n",
      "Patch: repeat last image on missing flow file\n",
      "Patch: repeat last image on missing flow file\n",
      "Patch: repeat last image on missing flow file\n",
      "-----------------------------\n",
      "Epoch 2: Loss [0.4852945136879865,0.4522878092401339], Acc [0.824,0.832] took 264.16s\n",
      "Accuracy by class [[0.814, 0.807, 0.848],[0.837, 0.789, 0.864]] Total elements: [[10112, 10756, 12252],[10101, 10745, 12234]]\n",
      "Patch: repeat last image on missing flow file\n",
      "Patch: repeat last image on missing flow file\n",
      "Patch: repeat last image on missing flow file\n",
      "Patch: repeat last image on missing flow file\n",
      "Patch: repeat last image on missing flow file\n",
      "Patch: repeat last image on missing flow file\n",
      "Patch: repeat last image on missing flow file\n",
      "Patch: repeat last image on missing flow file\n",
      "Patch: repeat last image on missing flow file\n",
      "Patch: repeat last image on missing flow file\n",
      "Patch: repeat last image on missing flow file\n",
      "Patch: repeat last image on missing flow file\n",
      "Patch: repeat last image on missing flow file\n",
      "Patch: repeat last image on missing flow file\n",
      "Patch: repeat last image on missing flow file\n",
      "Patch: repeat last image on missing flow file\n",
      "Patch: repeat last image on missing flow file\n",
      "Patch: repeat last image on missing flow file\n",
      "Patch: repeat last image on missing flow file\n",
      "Patch: repeat last image on missing flow file\n",
      "Patch: repeat last image on missing flow file\n",
      "Patch: repeat last image on missing flow file\n",
      "-----------------------------\n",
      "Epoch 3: Loss [0.42810543377593924,0.41320172906642205], Acc [0.841,0.844] took 264.9s\n",
      "Accuracy by class [[0.834, 0.835, 0.852],[0.846, 0.807, 0.873]] Total elements: [[10112, 10756, 12252],[10101, 10745, 12234]]\n",
      "Patch: repeat last image on missing flow file\n",
      "Patch: repeat last image on missing flow file\n",
      "Patch: repeat last image on missing flow file\n",
      "Patch: repeat last image on missing flow file\n",
      "Patch: repeat last image on missing flow file\n",
      "Patch: repeat last image on missing flow file\n",
      "Patch: repeat last image on missing flow file\n",
      "Patch: repeat last image on missing flow file\n",
      "Patch: repeat last image on missing flow file\n",
      "Patch: repeat last image on missing flow file\n",
      "Patch: repeat last image on missing flow file\n",
      "Patch: repeat last image on missing flow file\n",
      "Patch: repeat last image on missing flow file\n",
      "Patch: repeat last image on missing flow file\n",
      "Patch: repeat last image on missing flow file\n",
      "Patch: repeat last image on missing flow file\n",
      "Patch: repeat last image on missing flow file\n",
      "Patch: repeat last image on missing flow file\n",
      "Patch: repeat last image on missing flow file\n",
      "Patch: repeat last image on missing flow file\n",
      "Patch: repeat last image on missing flow file\n",
      "Patch: repeat last image on missing flow file\n",
      "-----------------------------\n",
      "Epoch 4: Loss [0.3966439631230156,0.3890639756921552], Acc [0.852,0.852] took 259.87s\n",
      "Accuracy by class [[0.844, 0.854, 0.856],[0.855, 0.817, 0.879]] Total elements: [[10112, 10756, 12252],[10101, 10745, 12234]]\n",
      "Patch: repeat last image on missing flow file\n",
      "Patch: repeat last image on missing flow file\n",
      "Patch: repeat last image on missing flow file\n",
      "Patch: repeat last image on missing flow file\n",
      "Patch: repeat last image on missing flow file\n",
      "Patch: repeat last image on missing flow file\n",
      "Patch: repeat last image on missing flow file\n",
      "Patch: repeat last image on missing flow file\n",
      "Patch: repeat last image on missing flow file\n",
      "Patch: repeat last image on missing flow file\n",
      "Patch: repeat last image on missing flow file\n",
      "Patch: repeat last image on missing flow file\n",
      "Patch: repeat last image on missing flow file\n",
      "Patch: repeat last image on missing flow file\n"
     ]
    }
   ],
   "source": [
    "print('Start training...')\n",
    "\n",
    "for epoch in range(NR_EPOCHS): \n",
    "    start_time = time.time()\n",
    "    running_loss_train = 0.0\n",
    "    running_loss_test = 0.0\n",
    "    for i, batch in enumerate(train_loader):\n",
    "        inputs, labels = batch\n",
    "        data_in = [s.to(device) for s in inputs['flows']]\n",
    "        labels = labels.to(device)\n",
    "        \n",
    "#         print(\"Time steps:{}, input sequence length:{}\".format(TIME_STEPS,len(data_in)))\n",
    "        #print(\"NN input: \",len(flows),len(flows[0]),len(flows[0][0]),len(flows[0][0][0]),len(flows[0][0][0][0]))\n",
    "        optimizer.zero_grad() \n",
    "        outputs = net(data_in)\n",
    "        labels = labels.squeeze(0).long()\n",
    "        outputs = outputs.squeeze(0).float()\n",
    "        \n",
    "#         print(\"Size output\",outputs.size(),\"and label\", labels.size())\n",
    "#         print(outputs)\n",
    "        \n",
    "        loss = criterion(outputs[:,SLICE_FROM_TIME_STEP:TIME_STEPS].float(),labels[SLICE_FROM_TIME_STEP:TIME_STEPS].long())\n",
    "        loss.backward() \n",
    "        optimizer.step()\n",
    "\n",
    "        running_loss_train += loss.data.item()/((1-VALIDATION_SPLIT)*len(dataset))\n",
    "        elapsed_time = time.time() - start_time;\n",
    "        \n",
    "        tt_acc_tracker.update_loss(running_loss_train,\"TRAIN\")\n",
    "#         acc_tracker.update_lr(LR)\n",
    "\n",
    "        prediction = torch.max(outputs,1)[1]\n",
    "        label_element = labels\n",
    "    \n",
    "        tt_acc_tracker.update_acc(prediction,label_element,\"TRAIN\")\n",
    "        #         print(\"Prediction\", labels)\n",
    "#         acc_tracker.update_acc(prediction,labels)\n",
    "        \n",
    "    with torch.no_grad():\n",
    "        for i,batch in enumerate(test_loader):\n",
    "            inputs, labels = batch\n",
    "            data_in = [s.to(device) for s in inputs['flows']]\n",
    "            labels = labels.to(device)\n",
    "\n",
    "            outputs = net(data_in)\n",
    "            labels = labels.squeeze(0).long()\n",
    "            outputs = outputs.squeeze(0).float()\n",
    "            loss = criterion(outputs[:,SLICE_FROM_TIME_STEP:TIME_STEPS],labels[SLICE_FROM_TIME_STEP:TIME_STEPS])\n",
    "            running_loss_test += loss.data.item()/(VALIDATION_SPLIT*len(dataset))\n",
    "            tt_acc_tracker.update_loss(running_loss_train,\"TEST\")\n",
    "\n",
    "            prediction = torch.max(outputs,1)[1]\n",
    "            label_element = labels\n",
    "\n",
    "            tt_acc_tracker.update_acc(prediction,label_element,\"TEST\")\n",
    "   \n",
    "              \n",
    "    print(\"-----------------------------\")\n",
    "    print(\"Epoch {}: Loss [{},{}], Acc [{},{}] took {}s\".format(epoch, running_loss_train,running_loss_test,tt_acc_tracker.get_acc_tot(\"TRAIN\"),tt_acc_tracker.get_acc_tot(\"TEST\"), np.around(time.time()-start_time,decimals=2)))\n",
    "    print(\"Accuracy by class [{},{}] Total elements: [{},{}]\".format(tt_acc_tracker.get_acc(\"TRAIN\"),tt_acc_tracker.get_acc(\"TEST\"), tt_acc_tracker.get_labels_distribution(\"TRAIN\"),tt_acc_tracker.get_labels_distribution(\"TEST\")))\n",
    "\n",
    "    tt_acc_tracker.update_loss(running_loss_train,\"TRAIN\")\n",
    "    tt_acc_tracker.update_loss(running_loss_test,\"TEST\")\n",
    "    tt_acc_tracker.update_graph()\n",
    "    tt_acc_tracker.reset_acc_both()\n",
    "    tt_acc_tracker.update_lr(LR)\n",
    "\n",
    "print('...Training finished')\n"
   ]
  },
  {
   "cell_type": "code",
   "execution_count": null,
   "metadata": {},
   "outputs": [],
   "source": [
    "torch.save(net.state_dict(), '/home/ron/PycharmProjects/Gait2019/gait_project/saved_models/TransferConvLSTMFlow/TransferConvLSTMFlowB1.pth')"
   ]
  },
  {
   "cell_type": "code",
   "execution_count": 12,
   "metadata": {},
   "outputs": [
    {
     "data": {
      "text/plain": [
       "Text(0, 0.5, 'loss value')"
      ]
     },
     "execution_count": 12,
     "metadata": {},
     "output_type": "execute_result"
    },
    {
     "data": {
      "image/png": "[encoded data removed]",
      "text/plain": [
       "<Figure size 432x288 with 1 Axes>"
      ]
     },
     "metadata": {
      "needs_background": "light"
     },
     "output_type": "display_data"
    }
   ],
   "source": [
    "plt.plot(tt_acc_tracker.test_tracker.get_loss_graph())\n",
    "plt.title('loss batch 1')\n",
    "plt.xlabel('iterations')\n",
    "plt.ylabel('loss value')"
   ]
  },
  {
   "cell_type": "code",
   "execution_count": 16,
   "metadata": {},
   "outputs": [],
   "source": [
    "tt_acc_tracker.write_to_csv('/home/ron/PycharmProjects/Gait2019/plots/B1/')"
   ]
  },
  {
   "cell_type": "code",
   "execution_count": null,
   "metadata": {},
   "outputs": [],
   "source": []
  }
 ],
 "metadata": {
  "kernelspec": {
   "display_name": "Python 3",
   "language": "python",
   "name": "python3"
  },
  "language_info": {
   "codemirror_mode": {
    "name": "ipython",
    "version": 3
   },
   "file_extension": ".py",
   "mimetype": "text/x-python",
   "name": "python",
   "nbconvert_exporter": "python",
   "pygments_lexer": "ipython3",
   "version": "3.7.1"
  }
 },
 "nbformat": 4,
 "nbformat_minor": 2
}
