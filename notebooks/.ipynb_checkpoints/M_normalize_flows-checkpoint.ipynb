{
 "cells": [
  {
   "cell_type": "code",
   "execution_count": 1,
   "metadata": {},
   "outputs": [
    {
     "name": "stdout",
     "output_type": "stream",
     "text": [
      "Settings.py should be e.g. flows_1\n",
      "Hyperparameters defined\n"
     ]
    }
   ],
   "source": [
    "print(\"Settings.py should be e.g. flows_1\")\n",
    "#DESIGN PARAMETERS FOR NEURAL NETWORK\n",
    "NR_LSTM_UNITS = 2 \n",
    "IMAGE_INPUT_SIZE_W = 640\n",
    "IMAGE_INPUT_SIZE_H = 480\n",
    "\n",
    "IMAGE_AFTER_CONV_SIZE_W = 18\n",
    "IMAGE_AFTER_CONV_SIZE_H = 13\n",
    "#for 3x3 kernels, n=num_layers: len_in = 2^n*len_out + sum[i=1..n](2^i)\n",
    "#CONV_LAYER_LENGTH = 5\n",
    "\n",
    "LSTM_IO_SIZE = 18*13\n",
    "LSTM_HIDDEN_SIZE = 18*13\n",
    "\n",
    "RGB_CHANNELS = 3\n",
    "TIMESTEPS = 10 # size videos\n",
    "BATCH_SIZE = 1 #until now just batch_size = 1\n",
    "SLICE_FROM_TIMESTEP = 5 #slices from timestep SLICE_FROM_TIMESTEP to the last one\n",
    "\n",
    "NR_EPOCHS = 20\n",
    "\n",
    "VALIDATION_SPLIT = 0.0 #indicated ratio of training to validation data: 0.2 -> 20% VALIDATION data\n",
    "RANDOMIZED_SEED = 20\n",
    "SHUFFLE_DATASET = False\n",
    "\n",
    "USE_EXISTING_NORMALIZATION = True\n",
    "\n",
    "learning_rate = 0.01 # reduce factos of 10 .. some epoch later.\n",
    "momentum = 0.9\n",
    "print(\"Hyperparameters defined\")"
   ]
  },
  {
   "cell_type": "code",
   "execution_count": 2,
   "metadata": {},
   "outputs": [
    {
     "name": "stdout",
     "output_type": "stream",
     "text": [
      "done\n"
     ]
    }
   ],
   "source": [
    "import torch\n",
    "import torch.nn as nn\n",
    "import torch.nn.functional as F\n",
    "import torch.optim as optim\n",
    "from torch.utils.data import DataLoader\n",
    "\n",
    "from torch.optim import lr_scheduler\n",
    "import numpy as np\n",
    "import torchvision\n",
    "from torchvision import datasets, models, transforms\n",
    "import time\n",
    "import os\n",
    "import os.path as path\n",
    "import copy\n",
    "# from torch.utils.data.sampler import SequentialSampler\n",
    "\n",
    "\n",
    "from gait_analysis import AnnotationsCasia as Annotations\n",
    "from gait_analysis import CasiaDataset\n",
    "from gait_analysis.Config import Config\n",
    "from gait_analysis import Composer\n",
    "\n",
    "import matplotlib.pyplot as plt\n",
    "\n",
    "print(\"done\")"
   ]
  },
  {
   "cell_type": "code",
   "execution_count": 3,
   "metadata": {},
   "outputs": [
    {
     "name": "stdout",
     "output_type": "stream",
     "text": [
      "loading configuration  flows_1\n",
      "[OK]\n"
     ]
    }
   ],
   "source": [
    "#change configuration in settings.py\n",
    "crop_im_size = [186,250]\n",
    "c = Config()\n",
    "c.config['indexing']['grouping'] = 'person_sequence_angle'\n",
    "c.config['transformers']['DimensionResize']['dimension'] = TIMESTEPS\n",
    "#c.config['indexing']['people selection'] = [1]\n",
    "#c.config['indexing']['sequences_selection'] = ['nm-01']\n",
    "c.config['pose']['load'] = False\n",
    "c.config['flow']['load'] = True\n",
    "c.config['heatmaps']['load'] = False\n",
    "#c.config['scenes']['sequences'] = ['nm']\n",
    "#c.config['scenes']['angles'] = ['108']\n",
    "c.config['dataset_output'] = {\n",
    "#         'data': [\"scenes\",\"flows\",\"heatmaps_LAnkle\",\"heatmaps_RAnkle\"],\n",
    "        'data': ['flows'],\n",
    "        'label': \"annotations\"}\n",
    "composer = Composer()\n",
    "transformer = composer.compose()\n",
    "dataset = CasiaDataset(transform=transformer)"
   ]
  },
  {
   "cell_type": "markdown",
   "metadata": {},
   "source": [
    "# Settings \n",
    "## Dataset"
   ]
  },
  {
   "cell_type": "code",
   "execution_count": 4,
   "metadata": {},
   "outputs": [
    {
     "name": "stdout",
     "output_type": "stream",
     "text": [
      "Dataset size: 30\n",
      "Indices size: 30\n",
      "Split: 0\n"
     ]
    }
   ],
   "source": [
    "dataset_size = len(dataset)\n",
    "indices = list(range(dataset_size))\n",
    "print(\"Dataset size:\", len(dataset))\n",
    "print(\"Indices size:\", len(indices))\n",
    "split = int(np.floor(VALIDATION_SPLIT * dataset_size))\n",
    "print(\"Split:\", split)\n",
    "if SHUFFLE_DATASET:\n",
    "    np.random.seed(RANDOMIZED_SEED)\n",
    "    np.random.shuffle(indices)\n",
    "train_indices, test_indices = indices[split:], indices[:split]\n",
    "train_sampler = torch.utils.data.SequentialSampler(train_indices)\n",
    "test_sampler = torch.utils.data.SequentialSampler(test_indices)\n",
    "\n",
    "train_loader = torch.utils.data.DataLoader(dataset, batch_size=BATCH_SIZE, sampler=train_sampler)\n",
    "test_loader = torch.utils.data.DataLoader(dataset, batch_size=BATCH_SIZE, sampler=test_sampler)\n",
    "\n",
    "# #"
   ]
  },
  {
   "cell_type": "markdown",
   "metadata": {},
   "source": [
    "### Normalization of input data"
   ]
  },
  {
   "cell_type": "code",
   "execution_count": 12,
   "metadata": {},
   "outputs": [
    {
     "name": "stdout",
     "output_type": "stream",
     "text": [
      "Normalizing images...\n",
      "Images normalized with mean and std dev [126.04878374565972, 127.50835754123264, 1.5171344184027777] [7.03813454, 2.04901181, 5.66295848]\n",
      "Display normalized image as array:\n",
      "tensor([[-0.2481,  0.2399,  0.2399,  ...,  0.2399,  0.2399,  0.2399],\n",
      "        [ 0.2399,  0.2399,  0.2399,  ...,  0.2399,  0.2399,  0.2399],\n",
      "        [ 0.2399,  0.2399,  0.2399,  ..., -0.2481, -0.2481,  0.2399],\n",
      "        ...,\n",
      "        [ 0.2399,  0.2399,  0.2399,  ..., -0.2481, -0.2481, -0.2481],\n",
      "        [ 0.2399,  0.2399,  0.2399,  ..., -0.2481, -0.2481, -0.2481],\n",
      "        [ 0.2399,  0.2399,  0.2399,  ..., -0.2481, -0.2481, -0.2481]])\n"
     ]
    }
   ],
   "source": [
    "mean = [126.04878374565972, 127.50835754123264, 1.5171344184027777]\n",
    "std_dev = [7.03813454, 2.04901181, 5.66295848]\n",
    "if not(USE_EXISTING_NORMALIZATION):\n",
    "    image_list_ch_0 = []\n",
    "    image_list_ch_1 = []\n",
    "    image_list_ch_2 = []\n",
    "    for data in dataset:\n",
    "    #     print()\n",
    "        for image in data[0]['flows']:\n",
    "            image_list_ch_0.append(image[0].numpy())\n",
    "            image_list_ch_1.append(image[1].numpy())\n",
    "            image_list_ch_2.append(image[2].numpy())\n",
    "    print(\"List of channels created\")\n",
    "    mean = [np.mean(image_list_ch_0),np.mean(image_list_ch_1),np.mean(image_list_ch_2)]\n",
    "    std_dev = np.sqrt([np.var(image_list_ch_0),np.var(image_list_ch_1),np.var(image_list_ch_2)])\n",
    "print(\"Normalizing images...\")\n",
    "for data in dataset:\n",
    "    for image in data[0]['flows']:\n",
    "        image[0] = (image[0] - mean[0]) / std_dev[0]\n",
    "        image[1] = (image[1] - mean[1]) / std_dev[1]\n",
    "        image[2] = (image[2] - mean[2]) / std_dev[2]\n",
    "print(\"Images normalized with mean and std dev\",mean, std_dev)\n",
    "print(\"Display normalized image as array:\")\n",
    "print(image[1])"
   ]
  },
  {
   "cell_type": "markdown",
   "metadata": {},
   "source": [
    "## neural network"
   ]
  },
  {
   "cell_type": "code",
   "execution_count": 13,
   "metadata": {},
   "outputs": [
    {
     "name": "stdout",
     "output_type": "stream",
     "text": [
      "Class defined\n"
     ]
    }
   ],
   "source": [
    "class TEST_CNN_LSTM(nn.Module):\n",
    "    def __init__(self):\n",
    "        super(TEST_CNN_LSTM, self).__init__()\n",
    "        self.avialable_device = torch.device(\"cuda:0\" if torch.cuda.is_available() else \"cpu\")\n",
    "\n",
    "        self.conv1 = nn.Conv2d(3,6,3) #input 640x480\n",
    "        self.pool1 = nn.MaxPool2d(2,2) #input 638x478 output 319x239\n",
    "        self.conv2 = nn.Conv2d(6,16,3) # input 319x239 output 317x237\n",
    "        self.pool2 = nn.MaxPool2d(2,2) # input 317x237 output 158x118\n",
    "        self.conv3 = nn.Conv2d(16,6,3) # input 158x118 output 156x116\n",
    "        self.pool3 = nn.MaxPool2d(2,2) # input 156x116 output 78x58\n",
    "        self.conv4 = nn.Conv2d(6,3,3)  # input 78x58 output 76x56\n",
    "        self.pool4 = nn.MaxPool2d(2,2) # input 76x56 output 39x29\n",
    "        self.conv5 = nn.Conv2d(3,1,3)  # input 39x29 output 37x27\n",
    "        self.pool5 = nn.MaxPool2d(2,2) #output 37x27 output 18x13\n",
    "        self.lstm1 = nn.LSTM(LSTM_IO_SIZE,\n",
    "                            LSTM_HIDDEN_SIZE,\n",
    "                            TIMESTEPS)# horizontal direction\n",
    "        self.lstm2 = nn.LSTM(LSTM_IO_SIZE,\n",
    "                            LSTM_HIDDEN_SIZE,\n",
    "                            TIMESTEPS)# horizontal direction\n",
    "        self.fc1 = nn.Linear(LSTM_IO_SIZE,120)\n",
    "        self.fc2 = nn.Linear(120,20)\n",
    "        self.fc3 = nn.Linear(20,3)\n",
    "        \n",
    "        #initialize hidden states of LSTM\n",
    "        self.hidden = self.init_hidden()\n",
    "\n",
    "        #print(\"Hidden:\", _hidden)\n",
    "    def init_hidden(self):\n",
    "        return (torch.randn(TIMESTEPS, BATCH_SIZE, LSTM_HIDDEN_SIZE).to(self.avialable_device), \n",
    "                torch.randn(TIMESTEPS, BATCH_SIZE, LSTM_HIDDEN_SIZE).to(self.avialable_device))\n",
    "    def forward(self,x):\n",
    "#         print(\"Input list len:\",len(x))\n",
    "#         print(\"Input elemens size:\", x[0].size())\n",
    "#         batch_size = x[0].size()[0]\n",
    "\n",
    "        x_arr = torch.zeros(TIMESTEPS,BATCH_SIZE,1,IMAGE_AFTER_CONV_SIZE_H,IMAGE_AFTER_CONV_SIZE_W).to(self.avialable_device)\n",
    "        #print(\"X arr size\", x_arr.size())\n",
    "        #print(\"X size\", len(x))\n",
    "        for i in range(TIMESTEPS):#parallel convolutions which are later concatenated for LSTM\n",
    "            x_tmp_c1 = self.pool1(F.relu(self.conv1(x[i].float())))\n",
    "            x_tmp_c2 = self.pool2(F.relu(self.conv2(x_tmp_c1)))\n",
    "            x_tmp_c3 = self.pool3(F.relu(self.conv3(x_tmp_c2)))\n",
    "            x_tmp_c4 = self.pool4(F.relu(self.conv4(x_tmp_c3)))\n",
    "            x_tmp_c5 = self.pool5(F.relu(self.conv5(x_tmp_c4)))\n",
    "            x_arr[i] = x_tmp_c5 # torch.squeeze(x_tmp_c5)\n",
    "        \n",
    "        x, hidden = self.lstm1(x_arr.view(TIMESTEPS,BATCH_SIZE,-1), self.hidden)\n",
    "        x, hidden = self.lstm2(x, self.hidden)\n",
    "        # the reshaping was taken from the documentation... and makes scense\n",
    "        x = x.view(TIMESTEPS,BATCH_SIZE,LSTM_HIDDEN_SIZE) #output.view(seq_len, batch, num_dir*hidden_size)\n",
    "#         x = torch.squeeze(x)\n",
    "        x = F.relu(self.fc1(x))\n",
    "        x = F.relu(self.fc2(x))\n",
    "        x = self.fc3(x) \n",
    "        #x = x.squeeze(1)\n",
    "        x = x.permute(1,2,0)\n",
    "        #print (\"Size network output\", x.shape)\n",
    "        return x\n",
    "print(\"Class defined\")"
   ]
  },
  {
   "cell_type": "code",
   "execution_count": 14,
   "metadata": {},
   "outputs": [
    {
     "name": "stdout",
     "output_type": "stream",
     "text": [
      "Definition done\n"
     ]
    }
   ],
   "source": [
    "### define and execute testing function\n",
    "def test_all_preds(model):\n",
    "    n_batches_test = len(test_loader)\n",
    "\n",
    "    #Time for printing\n",
    "    testing_start_time = time.time()\n",
    "\n",
    "    print('Start testing...')\n",
    "    correct = 0 \n",
    "    total = 0\n",
    "    with torch.no_grad():\n",
    "        for i, batch in enumerate(train_loader):\n",
    "            inputs, labels = batch\n",
    "            \n",
    "            data_in = [s.to(device) for s in inputs['flows']]\n",
    "            labels = labels.to(device)\n",
    "            if not labels.size()[0] == BATCH_SIZE:\n",
    "                # skip uncompleted batch size NN is fixed to BATCHSIZE\n",
    "                continue\n",
    "            outputs = model(data_in)\n",
    "#             print(\"Out:\", len(outputs), outputs.size())\n",
    "#             print(\"Labels:\", len(labels), labels.size())\n",
    "            _, predicted = torch.max(outputs.data, 1)\n",
    "#             print('predicted:',len(predicted),predicted.size())\n",
    "            n_errors = torch.nonzero(torch.abs(labels.long() - predicted)).size(0)\n",
    "            total += predicted.numel()\n",
    "            # print('predicted',predicted)\n",
    "            correct += predicted.numel() - n_errors\n",
    "            # print('labels',labels)\n",
    "    print('Accuracy {:.2f}%'.format(100*correct/total))\n",
    "    print('...testing finished')\n",
    "print(\"Definition done\")"
   ]
  },
  {
   "cell_type": "markdown",
   "metadata": {},
   "source": [
    "### Test-Training"
   ]
  },
  {
   "cell_type": "code",
   "execution_count": 15,
   "metadata": {},
   "outputs": [
    {
     "name": "stdout",
     "output_type": "stream",
     "text": [
      "cpu\n"
     ]
    }
   ],
   "source": [
    "#TRAINING\n",
    "test_net = TEST_CNN_LSTM()\n",
    "device = torch.device(\"cuda:0\" if torch.cuda.is_available() else \"cpu\")\n",
    "print(device)\n",
    "test_net.to(device)\n",
    "criterion = nn.CrossEntropyLoss()\n",
    "optimizer = optim.SGD(test_net.parameters(), lr=learning_rate, momentum=momentum)\n"
   ]
  },
  {
   "cell_type": "markdown",
   "metadata": {},
   "source": [
    "### Test set and evaluate computing time etc."
   ]
  },
  {
   "cell_type": "code",
   "execution_count": 16,
   "metadata": {},
   "outputs": [
    {
     "name": "stdout",
     "output_type": "stream",
     "text": [
      "Start training...\n",
      "Expected loss with 3 different classes and 30 data elements: 32.95836866004329\n",
      "Batch size: 1\n",
      "Evaluating first element...\n",
      "Time steps:10, input sequence length:10\n",
      "Expected output format: [BATCH, NR_CLASSES, TIMESTEPS]\n",
      "Output format: 1 torch.Size([1, 3, 10])\n",
      "Expected label format: [BATCH, TIMESTEPS] (with int-label as each element indicating the correct one)\n",
      "Labels: 1 torch.Size([1, 10])\n",
      "Slicing loss. Using loss from: 5 to 10\n",
      "Loss:1.054498314857483, expected loss:1.0986122886681098\n",
      "Time needed:2.809417486190796s\n",
      "Expected loss for total training data:  32.95836866004329\n",
      "Expected training time per epoch:1.404708743095398 min\n",
      "Estimated total training time:0.468236247698466 hours\n"
     ]
    }
   ],
   "source": [
    "#PREPARATION FOR TRAINING\n",
    "loss_array = []\n",
    "learning_rate_array = []\n",
    "\n",
    "print('Start training...')\n",
    "print(\"Expected loss with {} different classes and {} data elements: {}\".format(3, len(dataset)-split, (len(dataset)-split)*np.log(3)))\n",
    "running_loss = 0.0\n",
    "#print(\"Data set length:\", len((train_loader)), \"Validation length:\", len(test_loader))\n",
    "print(\"Batch size:\", BATCH_SIZE)\n",
    "print(\"Evaluating first element...\")\n",
    "start_time = time.time()\n",
    "i, batch = next(iter(enumerate(train_loader)))\n",
    "inputs, labels = batch\n",
    "data_in = [s.to(device) for s in inputs['flows']]\n",
    "print(\"Proof for normalized data:\", data_in[0][0][1])\n",
    "labels = labels.to(device)\n",
    "print(\"Time steps:{}, input sequence length:{}\".format(TIMESTEPS,len(data_in)))\n",
    "#print(\"NN input: \",len(flows),len(flows[0]),len(flows[0][0]),len(flows[0][0][0]),len(flows[0][0][0][0]))\n",
    "optimizer.zero_grad() \n",
    "outputs = test_net(data_in)\n",
    "print(\"Expected output format: [BATCH, NR_CLASSES, TIMESTEPS]\")\n",
    "print(\"Output format:\", len(outputs), outputs.size())\n",
    "print(\"Expected label format: [BATCH, TIMESTEPS] (with int-label as each element indicating the correct one)\")\n",
    "print(\"Labels:\", len(labels), labels.size())\n",
    "print(\"Slicing loss. Using loss from:\",SLICE_FROM_TIMESTEP,\"to\",TIMESTEPS)\n",
    "#print(\"Labels content:\", labels)\n",
    "#original: loss = criterion(outputs.float(),labels.long())\n",
    "loss = criterion(outputs[:,:,SLICE_FROM_TIMESTEP:TIMESTEPS].float(),labels[:,SLICE_FROM_TIMESTEP:TIMESTEPS].long())\n",
    "loss.backward() \n",
    "optimizer.step()\n",
    "\n",
    "running_loss += loss.data.item()\n",
    "elapsed_time = time.time() - start_time;\n",
    "loss_array.append(running_loss)\n",
    "learning_rate_array.append(learning_rate)\n",
    "print(\"Loss:{}, expected loss:{}\".format(running_loss, np.log(3)))\n",
    "print(\"Time needed:{}s\".format(elapsed_time))\n",
    "print(\"Expected loss for total training data: \", (len(dataset)-split)*np.log(3))\n",
    "print(\"Expected training time per epoch:{} min\".format(elapsed_time* len(train_loader)/60))\n",
    "print(\"Estimated total training time:{} hours\".format(elapsed_time* len(train_loader)*NR_EPOCHS/3600))"
   ]
  },
  {
   "cell_type": "markdown",
   "metadata": {},
   "source": [
    "### Start Training here"
   ]
  },
  {
   "cell_type": "code",
   "execution_count": 23,
   "metadata": {
    "scrolled": true
   },
   "outputs": [
    {
     "name": "stdout",
     "output_type": "stream",
     "text": [
      "Epoch: 0\n",
      "Loss epoch 0: 9.238149151206017, took 171.45598697662354s\n",
      "Epoch: 1\n",
      "Loss epoch 1: 9.223418317735195, took 172.28045272827148s\n",
      "Epoch: 2\n",
      "Loss epoch 2: 9.218510083854198, took 172.80275416374207s\n",
      "Epoch: 3\n",
      "Loss epoch 3: 9.215329453349113, took 174.30178260803223s\n",
      "Epoch: 4\n",
      "Loss epoch 4: 9.21306736767292, took 193.37874341011047s\n",
      "Epoch: 5\n",
      "Loss epoch 5: 9.211401261389256, took 166.36185026168823s\n",
      "Epoch: 6\n",
      "Loss epoch 6: 9.210128858685493, took 169.75874304771423s\n",
      "Epoch: 7\n",
      "Loss epoch 7: 9.20911718904972, took 176.01259970664978s\n",
      "Epoch: 8\n",
      "Loss epoch 8: 9.208266220986843, took 166.78713250160217s\n",
      "Epoch: 9\n",
      "Loss epoch 9: 9.207513310015202, took 169.68993639945984s\n",
      "...Training finished\n"
     ]
    }
   ],
   "source": [
    "for epoch in range(NR_EPOCHS): \n",
    "    running_loss = 0.0\n",
    "    start_time = time.time()\n",
    "    print(\"Epoch:\", epoch)\n",
    "    running_loss = 0.0\n",
    "    for i, batch in enumerate(train_loader):\n",
    "        inputs, labels = batch\n",
    "        data_in = [s.to(device) for s in inputs['flows']]\n",
    "        labels = labels.to(device)\n",
    "        \n",
    "        optimizer.zero_grad() \n",
    "        \n",
    "        outputs = test_net(data_in)\n",
    "        loss = criterion(outputs[:,:,SLICE_FROM_TIMESTEP:TIMESTEPS].float(),labels[:,SLICE_FROM_TIMESTEP:TIMESTEPS].long())\n",
    "        loss.backward() \n",
    "        optimizer.step()\n",
    "        \n",
    "        running_loss += loss.data.item()\n",
    "\n",
    "    print(\"Loss epoch {}: {}, took {}s\".format(epoch, running_loss,time.time()-start_time))\n",
    "    loss_array.append(running_loss)\n",
    "    learning_rate_array.append(learning_rate)\n",
    "\n",
    "#test_all_preds(test_net) \n",
    "print('...Training finished')\n",
    "# plt.plot(loss_array)"
   ]
  },
  {
   "cell_type": "code",
   "execution_count": 22,
   "metadata": {},
   "outputs": [
    {
     "name": "stdout",
     "output_type": "stream",
     "text": [
      "LR changed\n"
     ]
    }
   ],
   "source": [
    "#DYNAMIC CHANGES:\n",
    "NR_EPOCHS = 10\n",
    "learning_rate = 0.0001\n",
    "momentum = 0.9\n",
    "optimizer = optim.SGD(test_net.parameters(), lr=learning_rate, momentum=momentum)\n",
    "print(\"LR changed\")"
   ]
  },
  {
   "cell_type": "code",
   "execution_count": 24,
   "metadata": {},
   "outputs": [
    {
     "name": "stdout",
     "output_type": "stream",
     "text": [
      "Expected loss:32.95836866004329, last loss:9.207513310015202\n",
      "Batch size: 1\n",
      "Sequence length: 10\n",
      "Total epochs learnt: 81\n",
      "Start testing...\n",
      "Accuracy 94.67%\n",
      "...testing finished\n"
     ]
    }
   ],
   "source": [
    "#EVALUATION\n",
    "print(\"Expected loss:{}, last loss:{}\".format((len(dataset)-split)*np.log(3),loss_array[-1]))\n",
    "print(\"Batch size:\", BATCH_SIZE)\n",
    "print(\"Sequence length:\",TIMESTEPS)\n",
    "print(\"Total epochs learnt:\", len(loss_array))\n",
    "# plt.plot(learning_rate_array)\n",
    "# plt.plot(loss_array)\n",
    "test_all_preds(test_net)\n"
   ]
  },
  {
   "cell_type": "markdown",
   "metadata": {},
   "source": [
    "### Expected loss for untrained set with Cross Entropy:\n",
    "k = number of classes\n",
    "N = number of labeled data in dataset\n",
    "loss_per_prediction = -log(1/k) = log(k)\n",
    "total_loss = sum(log(k)) = N*log(k)"
   ]
  },
  {
   "cell_type": "code",
   "execution_count": 25,
   "metadata": {},
   "outputs": [],
   "source": [
    "plt.clf()\n",
    "plot_path = \"/home/matthias/Desktop/\"\n",
    "loss_str = \"{0:.3f}\".format(loss_array[-1])\n",
    "information = \"flows_L\" + loss_str + \"_timesteps{}_nrsequences{}_batch{}\".format(TIMESTEPS,dataset_size,BATCH_SIZE)\n",
    "plt.xlabel('Epochs')\n",
    "plt.ylabel('Loss (Cross Entropy)')\n",
    "plt.plot(loss_array)\n",
    "plt.title(information)\n",
    "plt.savefig(plot_path + information + \".eps\")\n",
    "plt.clf()\n",
    "plt.xlabel('Epochs')\n",
    "plt.ylabel('Learning rate')\n",
    "plt.plot(learning_rate_array)\n",
    "plt.title(information)\n",
    "plt.savefig(plot_path + information + \"LR.eps\")"
   ]
  },
  {
   "cell_type": "code",
   "execution_count": null,
   "metadata": {},
   "outputs": [],
   "source": [
    "print(outputs.size())\n",
    "print(outputs[:,:,5:10])\n",
    "print(outputs.size()[2])\n",
    "print(\"Loss half:\", criterion(outputs[:,:,SLICE_FROM_TIMESTEP:TIMESTEPS].float(),labels[:,SLICE_FROM_TIMESTEP:TIMESTEPS].long()))\n",
    "print(\"Loss full:\", criterion(outputs.float(),labels.long()))\n"
   ]
  }
 ],
 "metadata": {
  "kernelspec": {
   "display_name": "Python gait_36",
   "language": "python",
   "name": "gait_36"
  },
  "language_info": {
   "codemirror_mode": {
    "name": "ipython",
    "version": 3
   },
   "file_extension": ".py",
   "mimetype": "text/x-python",
   "name": "python",
   "nbconvert_exporter": "python",
   "pygments_lexer": "ipython3",
   "version": "3.7.2"
  }
 },
 "nbformat": 4,
 "nbformat_minor": 2
}
