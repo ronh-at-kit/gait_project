{
 "cells": [
  {
   "cell_type": "markdown",
   "metadata": {},
   "source": [
    "# Works with python 2.7"
   ]
  },
  {
   "cell_type": "code",
   "execution_count": 4,
   "metadata": {},
   "outputs": [],
   "source": [
    "import sys\n",
    "import os\n",
    "import numpy as np\n",
    "sys.path.insert(0, '..')"
   ]
  },
  {
   "cell_type": "code",
   "execution_count": 5,
   "metadata": {},
   "outputs": [],
   "source": [
    "import cv2"
   ]
  },
  {
   "cell_type": "code",
   "execution_count": 6,
   "metadata": {},
   "outputs": [],
   "source": [
    "from gait_analysis.Datasets import TumGAID_Dataset\n",
    "from gait_analysis import settings as S"
   ]
  },
  {
   "cell_type": "code",
   "execution_count": 7,
   "metadata": {},
   "outputs": [],
   "source": [
    "import numpy as np\n",
    "import torch\n",
    "import torchvision as torchvision\n",
    "import torchvision.transforms as transforms\n",
    "import os\n",
    "import timeit\n",
    "import scipy.io\n",
    "import numpy as np\n",
    "from torch.utils.data import Dataset, DataLoader\n",
    "from matplotlib import pyplot as plt\n",
    "\n",
    "\n",
    "tumgaid_default_args = {\n",
    "    'load_pose': True,\n",
    "    'load_pose_options': {\n",
    "        'D': 2,\n",
    "        'body_keypoints_include_list': ['LAnkle',\n",
    "                                        'RAnkle',\n",
    "                                        'LKnee',\n",
    "                                        'RKnee',\n",
    "                                        'RHip',\n",
    "                                        'LHip']\n",
    "    },\n",
    "    'load_flow': True,\n",
    "    'load_flow_options': {\n",
    "        'method': 'dense',\n",
    "        'load_patches': True,\n",
    "        'load_patch_options': {\n",
    "            'patch_size': 2\n",
    "        }\n",
    "    },\n",
    "    'load_scene': True,\n",
    "    'load_scene_options': {\n",
    "        'grayscale': False,\n",
    "        'load_tracked': False\n",
    "    },\n",
    "    'include_scenes': ['b01', 'b02', 'n01', 'n02', 's01', 's02'],\n",
    "}\n"
   ]
  },
  {
   "cell_type": "markdown",
   "metadata": {},
   "source": [
    "# We need to write a wrapper class to get rid of the pandas datatype"
   ]
  },
  {
   "cell_type": "code",
   "execution_count": 8,
   "metadata": {},
   "outputs": [
    {
     "name": "stderr",
     "output_type": "stream",
     "text": [
      "/home/sandro/anaconda2/envs/gait_27/lib/python2.7/site-packages/pandas/core/computation/expressions.py:179: UserWarning: evaluating in Python space because the '*' operator is not supported by numexpr for the bool dtype, use '&' instead\n",
      "  .format(op=op_str, alt_op=unsupported[op_str]))\n"
     ]
    },
    {
     "name": "stdout",
     "output_type": "stream",
     "text": [
      "torch.Size([1, 72, 3])\n",
      "['images', 'flow_maps', 'pose_keypoints']\n",
      "torch.Size([1, 57, 3])\n",
      "['images', 'flow_maps', 'pose_keypoints']\n",
      "2\n"
     ]
    }
   ],
   "source": [
    "class DsetWrapper():\n",
    "    _dset = None\n",
    "    def __init__(self, dset):\n",
    "        self._dset = dset\n",
    "    \n",
    "    def __len__(self):\n",
    "        return len(self._dset)\n",
    "    \n",
    "    def __getitem__(self, idx):\n",
    "        data, annotations = self._dset[idx]\n",
    "        targets = self.annotations_to_targets(annotations)\n",
    "        return data, targets\n",
    "        \n",
    "    def annotations_to_targets(self, annotations):\n",
    "        '''\n",
    "        IN_THE_AIR == TRUE\n",
    "        '''\n",
    "        left_foot = annotations.left_foot.values == 'IN_THE_AIR'    \n",
    "        right_foot = annotations.right_foot.values == 'IN_THE_AIR'\n",
    "        frame_id = annotations.frame_id.values\n",
    "        return 1.0 * np.stack([frame_id, left_foot, right_foot], axis=1)\n",
    "        \n",
    "\n",
    "dset = TumGAID_Dataset(S.tumgaid_root,\n",
    "                       S.tumgaid_preprocessing_root,\n",
    "                       S.tumgaid_annotations_root,\n",
    "                       tumgaid_default_args)\n",
    "dset_wrap = DsetWrapper(dset)\n",
    "trainloader = DataLoader(dset_wrap, batch_size=1, shuffle=True)        \n",
    "        \n",
    "i = 0\n",
    "\n",
    "for k in trainloader:\n",
    "    i += 1\n",
    "    data, targets = k\n",
    "    print(targets.shape)\n",
    "    print(data.keys())\n",
    "    if i == 2:\n",
    "        break\n",
    "print(i)"
   ]
  },
  {
   "cell_type": "markdown",
   "metadata": {},
   "source": [
    "# Debugging code snippets"
   ]
  },
  {
   "cell_type": "code",
   "execution_count": 6,
   "metadata": {},
   "outputs": [
    {
     "name": "stderr",
     "output_type": "stream",
     "text": [
      "/home/sandro/anaconda2/envs/gait_27/lib/python2.7/site-packages/pandas/core/computation/expressions.py:179: UserWarning: evaluating in Python space because the '*' operator is not supported by numexpr for the bool dtype, use '&' instead\n",
      "  .format(op=op_str, alt_op=unsupported[op_str]))\n"
     ]
    }
   ],
   "source": [
    "dset = TumGAID_Dataset(S.tumgaid_root,\n",
    "                       S.tumgaid_preprocessing_root,\n",
    "                       S.tumgaid_annotations_root,\n",
    "                       tumgaid_default_args)\n",
    "inputs, annotations = dset[0]"
   ]
  },
  {
   "cell_type": "code",
   "execution_count": 27,
   "metadata": {},
   "outputs": [
    {
     "data": {
      "text/plain": [
       "array([[ 0.,  0.,  0.],\n",
       "       [ 1.,  0.,  1.],\n",
       "       [ 2.,  0.,  1.],\n",
       "       [ 3.,  0.,  1.],\n",
       "       [ 4.,  0.,  1.],\n",
       "       [ 5.,  0.,  1.],\n",
       "       [ 6.,  0.,  1.],\n",
       "       [ 7.,  0.,  1.],\n",
       "       [ 8.,  0.,  1.],\n",
       "       [ 9.,  0.,  1.],\n",
       "       [10.,  0.,  1.],\n",
       "       [11.,  0.,  1.],\n",
       "       [12.,  0.,  0.],\n",
       "       [13.,  0.,  0.],\n",
       "       [14.,  0.,  0.],\n",
       "       [15.,  0.,  0.],\n",
       "       [16.,  1.,  0.],\n",
       "       [17.,  1.,  0.],\n",
       "       [18.,  1.,  0.],\n",
       "       [19.,  1.,  0.],\n",
       "       [20.,  1.,  0.],\n",
       "       [21.,  1.,  0.],\n",
       "       [22.,  1.,  0.],\n",
       "       [23.,  1.,  0.],\n",
       "       [24.,  1.,  0.],\n",
       "       [25.,  1.,  0.],\n",
       "       [26.,  1.,  0.],\n",
       "       [27.,  1.,  0.],\n",
       "       [28.,  0.,  0.],\n",
       "       [29.,  0.,  0.],\n",
       "       [30.,  0.,  0.],\n",
       "       [31.,  0.,  1.],\n",
       "       [32.,  0.,  1.],\n",
       "       [33.,  0.,  1.],\n",
       "       [34.,  0.,  1.],\n",
       "       [35.,  0.,  1.],\n",
       "       [36.,  0.,  1.],\n",
       "       [37.,  0.,  1.],\n",
       "       [38.,  0.,  1.]])"
      ]
     },
     "execution_count": 27,
     "metadata": {},
     "output_type": "execute_result"
    }
   ],
   "source": [
    "def annotations_to_targets(annotations):\n",
    "    '''\n",
    "    IN_THE_AIR == TRUE\n",
    "    '''\n",
    "    left_foot = annotations.left_foot.values == 'IN_THE_AIR'    \n",
    "    right_foot = annotations.right_foot.values == 'IN_THE_AIR'\n",
    "    frame_id = annotations.frame_id.values\n",
    "    return 1.0 * np.stack([frame_id, left_foot, right_foot], axis=1)\n",
    "\n",
    "annotations_to_targets(annotations)"
   ]
  },
  {
   "cell_type": "code",
   "execution_count": null,
   "metadata": {},
   "outputs": [],
   "source": []
  }
 ],
 "metadata": {
  "kernelspec": {
   "display_name": "Python 3",
   "language": "python",
   "name": "python3"
  },
  "language_info": {
   "codemirror_mode": {
    "name": "ipython",
    "version": 3
   },
   "file_extension": ".py",
   "mimetype": "text/x-python",
   "name": "python",
   "nbconvert_exporter": "python",
   "pygments_lexer": "ipython3",
   "version": "3.6.5"
  }
 },
 "nbformat": 4,
 "nbformat_minor": 2
}
