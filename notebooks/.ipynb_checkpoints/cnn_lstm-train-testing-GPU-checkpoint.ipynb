{
 "cells": [
  {
   "cell_type": "code",
   "execution_count": 19,
   "metadata": {},
   "outputs": [],
   "source": [
    "import torch\n",
    "import torch.nn as nn\n",
    "import torch.nn.functional as F\n",
    "import torch.optim as optim\n",
    "from torch.utils.data import DataLoader\n",
    "\n",
    "from torch.optim import lr_scheduler\n",
    "import numpy as np\n",
    "import torchvision\n",
    "from torchvision import datasets, models, transforms\n",
    "import time\n",
    "import os\n",
    "import os.path as path\n",
    "import copy\n",
    "from torch.utils.data.sampler import SubsetRandomSampler\n",
    "import matplotlib.pyplot as plt\n",
    "\n",
    "from gait_analysis import AnnotationsCasia as Annotations\n",
    "from gait_analysis import CasiaDataset\n",
    "from gait_analysis.Config import Config\n",
    "from gait_analysis import Composer\n"
   ]
  },
  {
   "cell_type": "markdown",
   "metadata": {},
   "source": [
    "# Settings \n",
    "## Dataset"
   ]
  },
  {
   "cell_type": "code",
   "execution_count": 4,
   "metadata": {},
   "outputs": [
    {
     "name": "stdout",
     "output_type": "stream",
     "text": [
      "loading configuration  one_angle\n",
      "[OK]\n"
     ]
    }
   ],
   "source": [
    "crop_im_size = [186,250]\n",
    "c = Config()\n",
    "# c.config['indexing']['grouping'] = 'person_sequence_angle'\n",
    "# c.config['indexing']['selection'] = 'manual_person_sequence'\n",
    "c.config['pose']['load'] = False\n",
    "c.config['flow']['load'] = False\n",
    "c.config['heatmaps']['load'] = False\n",
    "c.config['dataset_output'] = {\n",
    "#         'data': [\"scenes\",\"flows\",\"heatmaps_LAnkle\",\"heatmaps_RAnkle\"],\n",
    "        'data': [\"scenes\"],\n",
    "        'label': \"annotations\"}\n",
    "composer = Composer()\n",
    "transformer = composer.compose()\n",
    "dataset = CasiaDataset(transform=transformer)\n"
   ]
  },
  {
   "cell_type": "code",
   "execution_count": 5,
   "metadata": {},
   "outputs": [
    {
     "data": {
      "text/plain": [
       "{'indexing': {'grouping': 'person_sequence',\n",
       "  'selection': 'manual_people_sequence',\n",
       "  'people_selection': [1, 2, 3, 5, 6, 7, 8, 9, 10],\n",
       "  'sequences_selection': ['bg-01',\n",
       "   'bg-02',\n",
       "   'cl-01',\n",
       "   'cl-02',\n",
       "   'nm-01',\n",
       "   'nm-02']},\n",
       " 'pose': {'load': False,\n",
       "  'preprocess': True,\n",
       "  'D': 2,\n",
       "  'body_keypoints_include_list': ['LAnkle',\n",
       "   'RAnkle',\n",
       "   'LKnee',\n",
       "   'RKnee',\n",
       "   'RHip',\n",
       "   'LHip']},\n",
       " 'flow': {'load': False,\n",
       "  'preprocess': True,\n",
       "  'method': 'dense',\n",
       "  'load_patches': True,\n",
       "  'patch_size': 5},\n",
       " 'scenes': {'load': True,\n",
       "  'preprocess': False,\n",
       "  'crops': False,\n",
       "  'gray_scale': False,\n",
       "  'load_tracked': False,\n",
       "  'sequences': ['bg', 'cl', 'nm'],\n",
       "  'angles': [90]},\n",
       " 'heatmaps': {'load': False,\n",
       "  'preprocess': True,\n",
       "  'body_keypoints_include_list': ['LAnkle', 'RAnkle']},\n",
       " 'transformers': {'AnnotationToLabel': {'target': ['annotations']},\n",
       "  'Transpose': {'swapping': (2, 0, 1), 'target': ['scenes']},\n",
       "  'DimensionResize': {'dimension': 40, 'target': ['scenes', 'annotations']},\n",
       "  'ToTensor': {'target': ['scenes', 'annotations']}},\n",
       " 'dataset_output': {'data': ['scenes'], 'label': 'annotations'}}"
      ]
     },
     "execution_count": 5,
     "metadata": {},
     "output_type": "execute_result"
    }
   ],
   "source": [
    "c.config"
   ]
  },
  {
   "cell_type": "markdown",
   "metadata": {},
   "source": [
    "## neural network"
   ]
  },
  {
   "cell_type": "code",
   "execution_count": 6,
   "metadata": {},
   "outputs": [
    {
     "name": "stdout",
     "output_type": "stream",
     "text": [
      "Class defined\n"
     ]
    }
   ],
   "source": [
    "#DESIGN PARAMETERS FOR NEURAL NETWORK\n",
    "NR_LSTM_UNITS = 2 \n",
    "IMAGE_INPUT_SIZE_W = 640\n",
    "IMAGE_INPUT_SIZE_H = 480\n",
    "\n",
    "IMAGE_AFTER_CONV_SIZE_W = 18\n",
    "IMAGE_AFTER_CONV_SIZE_H = 13\n",
    "#for 3x3 kernels, n=num_layers: len_in = 2^n*len_out + sum[i=1..n](2^i)\n",
    "#CONV_LAYER_LENGTH = 5\n",
    "\n",
    "LSTM_IO_SIZE = 18*13\n",
    "LSTM_HIDDEN_SIZE = 18*13\n",
    "\n",
    "RGB_CHANNELS = 3\n",
    "TIMESTEPS = 40 # size videos\n",
    "BATCH_SIZE = 1 #until now just batch_size = 1\n",
    "\n",
    "#USE RANDOM IMAGES TO SET UP WORKING EXAMPLE\n",
    "class TEST_CNN_LSTM(nn.Module):\n",
    "    def __init__(self):\n",
    "        super(TEST_CNN_LSTM, self).__init__()\n",
    "\n",
    "        selected_dev = \"cuda:0\" if torch.cuda.is_available() else \"cpu\"\n",
    "        self.avialable_device = torch.device(selected_dev)\n",
    "        \n",
    "        self.conv1 = nn.Conv2d(3,6,3) #input 640x480\n",
    "        self.pool1 = nn.MaxPool2d(2,2) #input 638x478 output 319x239\n",
    "        self.conv2 = nn.Conv2d(6,16,3) # input 319x239 output 317x237\n",
    "        self.pool2 = nn.MaxPool2d(2,2) # input 317x237 output 158x118\n",
    "        self.conv3 = nn.Conv2d(16,6,3) # input 158x118 output 156x116\n",
    "        self.pool3 = nn.MaxPool2d(2,2) # input 156x116 output 78x58\n",
    "        self.conv4 = nn.Conv2d(6,3,3)  # input 78x58 output 76x56\n",
    "        self.pool4 = nn.MaxPool2d(2,2) # input 76x56 output 39x29\n",
    "        self.conv5 = nn.Conv2d(3,1,3)  # input 39x29 output 37x27\n",
    "        self.pool5 = nn.MaxPool2d(2,2) #output 37x27 output 18x13\n",
    "        self.lstm1 = nn.LSTM(LSTM_IO_SIZE,\n",
    "                            LSTM_HIDDEN_SIZE,\n",
    "                            TIMESTEPS)# horizontal direction\n",
    "        self.lstm2 = nn.LSTM(LSTM_IO_SIZE,\n",
    "                            LSTM_HIDDEN_SIZE,\n",
    "                            TIMESTEPS)# horizontal direction\n",
    "        self.fc1 = nn.Linear(LSTM_IO_SIZE,120)\n",
    "        self.fc2 = nn.Linear(120,20)\n",
    "        self.fc3 = nn.Linear(20,3)\n",
    "        \n",
    "        #initialize hidden states of LSTM\n",
    "        self.hidden = self.init_hidden()\n",
    "\n",
    "        #print(\"Hidden:\", _hidden)\n",
    "    def init_hidden(self):\n",
    "        return (torch.randn(TIMESTEPS, BATCH_SIZE, LSTM_HIDDEN_SIZE).to(self.avialable_device), \n",
    "                torch.randn(TIMESTEPS, BATCH_SIZE, LSTM_HIDDEN_SIZE).to(self.avialable_device))\n",
    "    def forward(self,x):\n",
    "#         print(\"Input list len:\",len(x))\n",
    "#         print(\"Input elemens size:\", x[0].size())\n",
    "#         batch_size = x[0].size()[0]\n",
    "\n",
    "        x_arr = torch.zeros(TIMESTEPS,BATCH_SIZE,1,IMAGE_AFTER_CONV_SIZE_H,IMAGE_AFTER_CONV_SIZE_W).to(self.avialable_device)\n",
    "        ## print(\"X arr size\", x_arr.size())\n",
    "        for i in range(TIMESTEPS):#parallel convolutions which are later concatenated for LSTM\n",
    "            x_tmp_c1 = self.pool1(F.relu(self.conv1(x[i].float())))\n",
    "            x_tmp_c2 = self.pool2(F.relu(self.conv2(x_tmp_c1)))\n",
    "            x_tmp_c3 = self.pool3(F.relu(self.conv3(x_tmp_c2)))\n",
    "            x_tmp_c4 = self.pool4(F.relu(self.conv4(x_tmp_c3)))\n",
    "            x_tmp_c5 = self.pool5(F.relu(self.conv5(x_tmp_c4)))\n",
    "            x_arr[i] = x_tmp_c5 # torch.squeeze(x_tmp_c5)\n",
    "        \n",
    "        x, hidden = self.lstm1(x_arr.view(TIMESTEPS,BATCH_SIZE,-1), self.hidden)\n",
    "        x, hidden = self.lstm2(x, self.hidden)\n",
    "        # the reshaping was taken from the documentation... and makes scense\n",
    "        x = x.view(TIMESTEPS,BATCH_SIZE,LSTM_HIDDEN_SIZE) #output.view(seq_len, batch, num_dir*hidden_size)\n",
    "#         x = torch.squeeze(x)\n",
    "        x = F.relu(self.fc1(x))\n",
    "        x = F.relu(self.fc2(x))\n",
    "        x = self.fc3(x) \n",
    "        x = x.permute(1,2,0)\n",
    "        return x\n",
    "print(\"Class defined\")"
   ]
  },
  {
   "cell_type": "code",
   "execution_count": 7,
   "metadata": {},
   "outputs": [],
   "source": [
    "# TODOS:\n",
    "# Look for overfitting..\n",
    "# use GPU: 300 samples. many epochs. learning rate maybe is too high.\n",
    "# Tweak learning rate\n",
    "# Increase the RNN size\n",
    "# Maybe change the CNN\n",
    "# Use patches. or OF\n",
    "# Increase the dataset: 10 images 10peoplo+++ not too much too much variance. \n",
    "# FEEDBACK on friday..:) "
   ]
  },
  {
   "cell_type": "markdown",
   "metadata": {},
   "source": [
    "## Training-testing squeme\n",
    "### hyperparameters\n",
    "\n"
   ]
  },
  {
   "cell_type": "code",
   "execution_count": null,
   "metadata": {},
   "outputs": [],
   "source": [
    "validation_split = 0.1\n",
    "lr = .001 # reduce factos of 10 .. some epoch later.\n",
    "momentum = 0.9\n",
    "randomized_seed = 10\n",
    "shuffle_dataset = False"
   ]
  },
  {
   "cell_type": "markdown",
   "metadata": {},
   "source": [
    "### Test-Training splitting"
   ]
  },
  {
   "cell_type": "code",
   "execution_count": null,
   "metadata": {},
   "outputs": [],
   "source": [
    "#TRAINING\n",
    "test_net = TEST_CNN_LSTM()\n",
    "selected_dev = \"cuda:0\" if torch.cuda.is_available() else \"cpu\"\n",
    "device = torch.device(selected_dev)\n",
    "print(device)\n",
    "test_net.to(device)\n",
    "criterion = nn.CrossEntropyLoss()\n",
    "#criterion = nn.BCELoss()\n",
    "optimizer = optim.SGD(test_net.parameters(), lr=lr, momentum=momentum)\n",
    "\n",
    "dataset_size = len(dataset)\n",
    "indices = list(range(dataset_size))\n",
    "split = int(np.floor(validation_split * dataset_size))\n",
    "if shuffle_dataset :\n",
    "    np.random.seed(randomized_seed)\n",
    "    np.random.shuffle(indices)\n",
    "train_indices, test_indices = indices[split:], indices[:split]\n",
    "train_sampler = SubsetRandomSampler(train_indices)\n",
    "test_sampler = SubsetRandomSampler(test_indices)\n",
    "\n",
    "train_loader = torch.utils.data.DataLoader(dataset, batch_size=BATCH_SIZE, sampler=train_sampler)\n",
    "test_loader = torch.utils.data.DataLoader(dataset, batch_size=BATCH_SIZE, sampler=test_sampler)\n",
    "\n",
    "# "
   ]
  },
  {
   "cell_type": "code",
   "execution_count": null,
   "metadata": {},
   "outputs": [],
   "source": [
    "# test_net.parameters\n",
    "# pytorch_total_params = sum(p.numel() for p in test_net.parameters())\n",
    "# pytorch_total_params\n"
   ]
  },
  {
   "cell_type": "code",
   "execution_count": null,
   "metadata": {},
   "outputs": [],
   "source": [
    "### define testing function\n",
    "def test_all_preds(model):\n",
    "    n_batches_test = len(test_loader)\n",
    "\n",
    "    #Time for printing\n",
    "    testing_start_time = time.time()\n",
    "\n",
    "    print('Start testing...')\n",
    "    correct = 0 \n",
    "    total = 0\n",
    "    with torch.no_grad():\n",
    "        for i, batch in enumerate(train_loader):\n",
    "            inputs, labels = batch\n",
    "            \n",
    "            scenes = [s.to(device) for s in inputs['scenes']]\n",
    "            labels = labels.to(device)\n",
    "            if not labels.size()[0] == BATCH_SIZE:\n",
    "                # skip uncompleted batch size NN is fixed to BATCHSIZE\n",
    "                continue\n",
    "            outputs = model(scenes)\n",
    "#             print(\"Out:\", len(outputs), outputs.size())\n",
    "#             print(\"Labels:\", len(labels), labels.size())\n",
    "            _, predicted = torch.max(outputs.data, 1)\n",
    "#             print('predicted:',len(predicted),predicted.size())\n",
    "            n_errors = torch.nonzero(torch.abs(labels - predicted)).size(0)\n",
    "            total += predicted.numel()\n",
    "            # print('predicted',predicted)\n",
    "            correct += predicted.numel() - n_errors\n",
    "            # print('labels',labels)\n",
    "    print('Accuracy {:.2f}%'.format(100*correct/total))\n",
    "    print('...testing finished')"
   ]
  },
  {
   "cell_type": "markdown",
   "metadata": {},
   "source": [
    "### training over all predictions"
   ]
  },
  {
   "cell_type": "code",
   "execution_count": null,
   "metadata": {
    "scrolled": true
   },
   "outputs": [],
   "source": [
    "n_batches = len(train_loader)\n",
    "\n",
    "#Time for printing\n",
    "training_start_time = time.time()\n",
    "EPOCHS = 10\n",
    "train_loss_hist = np.zeros(EPOCHS)\n",
    "\n",
    "print('Start training...')\n",
    "for epoch in range(EPOCHS): \n",
    "    running_loss = 0.0\n",
    "    print_every = n_batches // 10\n",
    "    start_time = time.time()\n",
    "    total_train_loss = 0\n",
    "    \n",
    "    print(\"Epoch:\", epoch)\n",
    "    running_loss = 0.0\n",
    "    for i, batch in enumerate(train_loader):\n",
    "        \n",
    "        inputs, labels = batch\n",
    "        scenes = [s.to(device) for s in inputs['scenes']]\n",
    "        labels = labels.view(BATCH_SIZE,1,-1).to(device)\n",
    "        if not labels.size()[0] == BATCH_SIZE:\n",
    "            # skip uncompleted batch size NN is fixed to BATCHSIZE\n",
    "            continue\n",
    "        optimizer.zero_grad() \n",
    "        outputs = test_net(scenes)\n",
    "        outputs = outputs.view(BATCH_SIZE,3,1,-1)\n",
    "#         print(\"Out:\", len(outputs), outputs.size())\n",
    "#         print(\"Labels:\", len(labels), labels.size())\n",
    "        loss = criterion(outputs,labels)\n",
    "        loss.backward() \n",
    "        optimizer.step()\n",
    "        \n",
    "        #Print statistics\n",
    "        # print(loss.data.item())\n",
    "        running_loss += loss.data.item()\n",
    "        total_train_loss += loss.data.item()\n",
    "        \n",
    "        #Print every 10th batch of an epoch\n",
    "        if (i + 1) % (print_every + 1) == 0:\n",
    "            print(\"Epoch {}, {:d}% \\t train_loss(mean): {:.2f} took: {:.2f}s\".format(\n",
    "                    epoch+1, int(100 * (i+1) / n_batches), running_loss/print_every, time.time() - start_time))\n",
    "            #Reset running loss and time\n",
    "            running_loss = 0.0\n",
    "            start_time = time.time()\n",
    "    # test after each epoch\n",
    "    train_loss_hist[epoch] = total_train_loss\n",
    "    test_all_preds(test_net)\n",
    "    print('total training loss for epoch {}: {:.6f}'.format(epoch+1, total_train_loss))\n",
    "\n",
    "print('...Training finished')"
   ]
  },
  {
   "cell_type": "code",
   "execution_count": null,
   "metadata": {},
   "outputs": [],
   "source": [
    "plt.plot(train_loss_hist)\n",
    "plt.title('train loss history')\n",
    "plt.xlabel('epoch number')\n",
    "plt.ylabel('train loss for all epoch')"
   ]
  },
  {
   "cell_type": "markdown",
   "metadata": {},
   "source": [
    "### training only last prediction"
   ]
  },
  {
   "cell_type": "code",
   "execution_count": 12,
   "metadata": {},
   "outputs": [],
   "source": [
    "### define testing function\n",
    "def test_last_pred(model):\n",
    "    n_batches_test = len(test_loader)\n",
    "\n",
    "    #Time for printing\n",
    "    testing_start_time = time.time()\n",
    "\n",
    "    print('Start testing...')\n",
    "    correct = 0 \n",
    "    total = 0\n",
    "    with torch.no_grad():\n",
    "        for i, batch in enumerate(train_loader):\n",
    "            inputs, labels = batch\n",
    "            \n",
    "            scenes = [s.to(device) for s in inputs['scenes']]\n",
    "            labels = labels[:,-1].to(device)\n",
    "            if not labels.size()[0] == BATCH_SIZE:\n",
    "                # skip uncompleted batch size NN is fixed to BATCHSIZE\n",
    "                continue\n",
    "            outputs = model(scenes)\n",
    "            outputs = outputs[:,:,-1]\n",
    "#             print(\"Out:\", len(outputs), outputs.size())\n",
    "#             print(\"Labels:\", len(labels), labels.size())\n",
    "            _, predicted = torch.max(outputs.data, 1)\n",
    "#             print('predicted:',len(predicted),predicted.size())\n",
    "            n_errors = torch.nonzero(torch.abs(labels- predicted)).size(0)\n",
    "            total += predicted.numel()\n",
    "            # print('predicted',predicted)\n",
    "            correct += predicted.numel() - n_errors\n",
    "            # print('labels',labels)\n",
    "    print('Accuracy {:.2f}%'.format(100*correct/total))\n",
    "    print('...testing finished')"
   ]
  },
  {
   "cell_type": "code",
   "execution_count": 21,
   "metadata": {
    "scrolled": true
   },
   "outputs": [
    {
     "name": "stdout",
     "output_type": "stream",
     "text": [
      "Start training...\n",
      "Epoch: 0\n"
     ]
    },
    {
     "name": "stderr",
     "output_type": "stream",
     "text": [
      "/home/ron/anaconda3/envs/gait_37/lib/python3.7/site-packages/pandas/core/computation/expressions.py:180: UserWarning: evaluating in Python space because the '*' operator is not supported by numexpr for the bool dtype, use '&' instead\n",
      "  .format(op=op_str, alt_op=unsupported[op_str]))\n"
     ]
    },
    {
     "name": "stdout",
     "output_type": "stream",
     "text": [
      "Epoch 1, 11% \t train_loss(mean): 1.33 took: 4.05s\n",
      "Epoch 1, 22% \t train_loss(mean): 1.41 took: 4.69s\n",
      "Epoch 1, 33% \t train_loss(mean): 1.40 took: 3.95s\n",
      "Epoch 1, 44% \t train_loss(mean): 1.32 took: 3.68s\n",
      "Epoch 1, 55% \t train_loss(mean): 1.37 took: 3.80s\n",
      "Epoch 1, 66% \t train_loss(mean): 1.36 took: 3.95s\n",
      "Epoch 1, 77% \t train_loss(mean): 1.36 took: 3.70s\n",
      "Epoch 1, 88% \t train_loss(mean): 1.48 took: 3.85s\n",
      "Epoch 1, 100% \t train_loss(mean): 1.35 took: 3.87s\n",
      "Start testing...\n",
      "Accuracy 35.56%\n",
      "...testing finished\n",
      "total training loss for epoch 1: 49.472730\n",
      "Epoch: 1\n",
      "Epoch 2, 11% \t train_loss(mean): 1.37 took: 3.74s\n",
      "Epoch 2, 22% \t train_loss(mean): 1.28 took: 5.68s\n",
      "Epoch 2, 33% \t train_loss(mean): 1.44 took: 3.66s\n",
      "Epoch 2, 44% \t train_loss(mean): 1.36 took: 3.75s\n",
      "Epoch 2, 55% \t train_loss(mean): 1.32 took: 4.04s\n",
      "Epoch 2, 66% \t train_loss(mean): 1.39 took: 3.71s\n",
      "Epoch 2, 77% \t train_loss(mean): 1.39 took: 3.70s\n",
      "Epoch 2, 88% \t train_loss(mean): 1.39 took: 3.67s\n",
      "Epoch 2, 100% \t train_loss(mean): 1.43 took: 3.74s\n",
      "Start testing...\n",
      "Accuracy 35.56%\n",
      "...testing finished\n",
      "total training loss for epoch 2: 49.475856\n",
      "Epoch: 2\n",
      "Epoch 3, 11% \t train_loss(mean): 1.39 took: 4.60s\n",
      "Epoch 3, 22% \t train_loss(mean): 1.33 took: 3.84s\n",
      "Epoch 3, 33% \t train_loss(mean): 1.40 took: 3.70s\n",
      "Epoch 3, 44% \t train_loss(mean): 1.36 took: 3.87s\n",
      "Epoch 3, 55% \t train_loss(mean): 1.42 took: 4.09s\n",
      "Epoch 3, 66% \t train_loss(mean): 1.33 took: 3.85s\n",
      "Epoch 3, 77% \t train_loss(mean): 1.40 took: 3.94s\n",
      "Epoch 3, 88% \t train_loss(mean): 1.36 took: 3.62s\n",
      "Epoch 3, 100% \t train_loss(mean): 1.37 took: 3.96s\n",
      "Start testing...\n",
      "Accuracy 35.56%\n",
      "...testing finished\n",
      "total training loss for epoch 3: 49.426403\n",
      "Epoch: 3\n",
      "Epoch 4, 11% \t train_loss(mean): 1.36 took: 4.68s\n",
      "Epoch 4, 22% \t train_loss(mean): 1.44 took: 3.90s\n",
      "Epoch 4, 33% \t train_loss(mean): 1.36 took: 3.60s\n",
      "Epoch 4, 44% \t train_loss(mean): 1.40 took: 4.07s\n",
      "Epoch 4, 55% \t train_loss(mean): 1.36 took: 3.92s\n",
      "Epoch 4, 66% \t train_loss(mean): 1.40 took: 3.77s\n",
      "Epoch 4, 77% \t train_loss(mean): 1.33 took: 3.98s\n",
      "Epoch 4, 88% \t train_loss(mean): 1.36 took: 3.72s\n",
      "Epoch 4, 100% \t train_loss(mean): 1.38 took: 3.85s\n",
      "Start testing...\n",
      "Accuracy 35.56%\n",
      "...testing finished\n",
      "total training loss for epoch 4: 49.512455\n",
      "Epoch: 4\n",
      "Epoch 5, 11% \t train_loss(mean): 1.32 took: 4.77s\n",
      "Epoch 5, 22% \t train_loss(mean): 1.40 took: 3.77s\n",
      "Epoch 5, 33% \t train_loss(mean): 1.37 took: 4.01s\n",
      "Epoch 5, 44% \t train_loss(mean): 1.43 took: 4.02s\n",
      "Epoch 5, 55% \t train_loss(mean): 1.36 took: 3.65s\n",
      "Epoch 5, 66% \t train_loss(mean): 1.29 took: 3.62s\n",
      "Epoch 5, 77% \t train_loss(mean): 1.44 took: 3.82s\n",
      "Epoch 5, 88% \t train_loss(mean): 1.37 took: 4.02s\n",
      "Epoch 5, 100% \t train_loss(mean): 1.39 took: 3.79s\n",
      "Start testing...\n",
      "Accuracy 35.56%\n",
      "...testing finished\n",
      "total training loss for epoch 5: 49.451979\n",
      "Epoch: 5\n",
      "Epoch 6, 11% \t train_loss(mean): 1.36 took: 3.86s\n",
      "Epoch 6, 22% \t train_loss(mean): 1.41 took: 3.82s\n",
      "Epoch 6, 33% \t train_loss(mean): 1.30 took: 4.22s\n",
      "Epoch 6, 44% \t train_loss(mean): 1.40 took: 3.78s\n",
      "Epoch 6, 55% \t train_loss(mean): 1.32 took: 3.82s\n",
      "Epoch 6, 66% \t train_loss(mean): 1.40 took: 4.32s\n",
      "Epoch 6, 77% \t train_loss(mean): 1.42 took: 3.70s\n",
      "Epoch 6, 88% \t train_loss(mean): 1.37 took: 3.78s\n",
      "Epoch 6, 100% \t train_loss(mean): 1.37 took: 3.97s\n",
      "Start testing...\n",
      "Accuracy 35.56%\n",
      "...testing finished\n",
      "total training loss for epoch 6: 49.461770\n",
      "Epoch: 6\n",
      "Epoch 7, 11% \t train_loss(mean): 1.37 took: 4.06s\n",
      "Epoch 7, 22% \t train_loss(mean): 1.37 took: 4.35s\n",
      "Epoch 7, 33% \t train_loss(mean): 1.38 took: 4.20s\n",
      "Epoch 7, 44% \t train_loss(mean): 1.42 took: 3.72s\n",
      "Epoch 7, 55% \t train_loss(mean): 1.39 took: 3.70s\n",
      "Epoch 7, 66% \t train_loss(mean): 1.33 took: 3.87s\n",
      "Epoch 7, 77% \t train_loss(mean): 1.39 took: 3.87s\n",
      "Epoch 7, 88% \t train_loss(mean): 1.36 took: 3.93s\n",
      "Epoch 7, 100% \t train_loss(mean): 1.36 took: 3.93s\n",
      "Start testing...\n",
      "Accuracy 35.56%\n",
      "...testing finished\n",
      "total training loss for epoch 7: 49.509763\n",
      "Epoch: 7\n",
      "Epoch 8, 11% \t train_loss(mean): 1.40 took: 3.79s\n",
      "Epoch 8, 22% \t train_loss(mean): 1.32 took: 3.93s\n",
      "Epoch 8, 33% \t train_loss(mean): 1.37 took: 3.62s\n",
      "Epoch 8, 44% \t train_loss(mean): 1.37 took: 3.82s\n",
      "Epoch 8, 55% \t train_loss(mean): 1.42 took: 3.74s\n",
      "Epoch 8, 66% \t train_loss(mean): 1.41 took: 4.01s\n",
      "Epoch 8, 77% \t train_loss(mean): 1.37 took: 3.80s\n",
      "Epoch 8, 88% \t train_loss(mean): 1.33 took: 3.80s\n",
      "Epoch 8, 100% \t train_loss(mean): 1.36 took: 3.79s\n",
      "Start testing...\n",
      "Accuracy 35.56%\n",
      "...testing finished\n",
      "total training loss for epoch 8: 49.455276\n",
      "Epoch: 8\n",
      "Epoch 9, 11% \t train_loss(mean): 1.38 took: 3.87s\n",
      "Epoch 9, 22% \t train_loss(mean): 1.36 took: 3.67s\n",
      "Epoch 9, 33% \t train_loss(mean): 1.34 took: 3.95s\n",
      "Epoch 9, 44% \t train_loss(mean): 1.40 took: 3.85s\n",
      "Epoch 9, 55% \t train_loss(mean): 1.43 took: 3.90s\n",
      "Epoch 9, 66% \t train_loss(mean): 1.41 took: 3.70s\n",
      "Epoch 9, 77% \t train_loss(mean): 1.40 took: 3.82s\n",
      "Epoch 9, 88% \t train_loss(mean): 1.33 took: 3.76s\n",
      "Epoch 9, 100% \t train_loss(mean): 1.34 took: 3.61s\n",
      "Start testing...\n",
      "Accuracy 35.56%\n",
      "...testing finished\n",
      "total training loss for epoch 9: 49.558836\n",
      "Epoch: 9\n",
      "Epoch 10, 11% \t train_loss(mean): 1.41 took: 4.02s\n",
      "Epoch 10, 22% \t train_loss(mean): 1.38 took: 3.57s\n",
      "Epoch 10, 33% \t train_loss(mean): 1.36 took: 3.83s\n",
      "Epoch 10, 44% \t train_loss(mean): 1.36 took: 3.76s\n",
      "Epoch 10, 55% \t train_loss(mean): 1.36 took: 3.75s\n",
      "Epoch 10, 66% \t train_loss(mean): 1.39 took: 3.86s\n",
      "Epoch 10, 77% \t train_loss(mean): 1.32 took: 3.64s\n",
      "Epoch 10, 88% \t train_loss(mean): 1.40 took: 3.98s\n",
      "Epoch 10, 100% \t train_loss(mean): 1.38 took: 3.69s\n",
      "Start testing...\n",
      "Accuracy 35.56%\n",
      "...testing finished\n",
      "total training loss for epoch 10: 49.447351\n",
      "...Training finished\n"
     ]
    }
   ],
   "source": [
    "n_batches = len(train_loader)\n",
    "# change the optimizer lerning rate:\n",
    "EPOCHS = 10\n",
    "optimizer = optim.SGD(test_net.parameters(), lr=0.0001, momentum=momentum)\n",
    "\n",
    "\n",
    "#Time for printing\n",
    "training_start_time = time.time()\n",
    "    \n",
    "print('Start training...')\n",
    "train_loss_hist = np.zeros(EPOCHS)\n",
    "for epoch in range(EPOCHS): \n",
    "    running_loss = 0.0\n",
    "    print_every = n_batches // 10\n",
    "    start_time = time.time()\n",
    "    total_train_loss = 0\n",
    "    \n",
    "    print(\"Epoch:\", epoch)\n",
    "    running_loss = 0.0\n",
    "    for i, batch in enumerate(train_loader):\n",
    "        \n",
    "        inputs, labels = batch\n",
    "        scenes = [s.to(device) for s in inputs['scenes']]\n",
    "        labels = labels[:,-1].to(device)\n",
    "        if not labels.size()[0] == BATCH_SIZE:\n",
    "            # skip uncompleted batch size NN is fixed to BATCHSIZE\n",
    "            continue\n",
    "        optimizer.zero_grad() \n",
    "        outputs = test_net(scenes)\n",
    "        outputs = outputs[:,:,-1]\n",
    "#         print(\"Out:\", len(outputs), outputs.size(),outputs)\n",
    "#         print(\"Labels:\", len(labels), labels.size(),labels)\n",
    "        loss = criterion(outputs,labels )\n",
    "        loss.backward() \n",
    "        optimizer.step()\n",
    "        \n",
    "        #Print statistics\n",
    "#         print('loss.data.item()', loss.data.item())\n",
    "        running_loss += loss.data.item()\n",
    "        total_train_loss += loss.data.item()\n",
    "        \n",
    "        #Print every 10th batch of an epoch\n",
    "        if (i + 1) % (print_every + 1) == 0:\n",
    "            print(\"Epoch {}, {:d}% \\t train_loss(mean): {:.2f} took: {:.2f}s\".format(\n",
    "                    epoch+1, int(100 * (i+1) / n_batches), running_loss/print_every, time.time() - start_time))\n",
    "            #Reset running loss and time\n",
    "            running_loss = 0.0\n",
    "            start_time = time.time()\n",
    "    # test after each epoch\n",
    "    train_loss_hist[epoch] = total_train_loss\n",
    "    test_last_pred(test_net)\n",
    "    print('total training loss for epoch {}: {:.6f}'.format(epoch+1, total_train_loss))\n",
    "\n",
    "print('...Training finished')"
   ]
  },
  {
   "cell_type": "code",
   "execution_count": 22,
   "metadata": {},
   "outputs": [
    {
     "data": {
      "text/plain": [
       "Text(0, 0.5, 'train loss for all epoch')"
      ]
     },
     "execution_count": 22,
     "metadata": {},
     "output_type": "execute_result"
    },
    {
     "data": {
      "image/png": "[encoded data removed]",
      "text/plain": [
       "<Figure size 432x288 with 1 Axes>"
      ]
     },
     "metadata": {
      "needs_background": "light"
     },
     "output_type": "display_data"
    }
   ],
   "source": [
    "plt.plot(train_loss_hist)\n",
    "plt.title('train loss history')\n",
    "plt.xlabel('epoch number')\n",
    "plt.ylabel('train loss for all epoch')"
   ]
  },
  {
   "cell_type": "code",
   "execution_count": null,
   "metadata": {
    "scrolled": true
   },
   "outputs": [],
   "source": [
    "# for i  in range(len(dataset)):\n",
    "#     inputs,labels =  dataset[i]\n",
    "#     if any(x==3 for x in labels):\n",
    "#         print('i',i)\n",
    "#         print(dataset.dataset_items[i])\n",
    "#         print('labels',labels)"
   ]
  },
  {
   "cell_type": "code",
   "execution_count": null,
   "metadata": {},
   "outputs": [],
   "source": [
    "# dataset.dataset_items[93]"
   ]
  },
  {
   "cell_type": "code",
   "execution_count": null,
   "metadata": {},
   "outputs": [],
   "source": [
    "\n"
   ]
  },
  {
   "cell_type": "code",
   "execution_count": null,
   "metadata": {},
   "outputs": [],
   "source": []
  },
  {
   "cell_type": "code",
   "execution_count": null,
   "metadata": {},
   "outputs": [],
   "source": []
  }
 ],
 "metadata": {
  "kernelspec": {
   "display_name": "Python gait_37",
   "language": "python",
   "name": "gait_37"
  },
  "language_info": {
   "codemirror_mode": {
    "name": "ipython",
    "version": 3
   },
   "file_extension": ".py",
   "mimetype": "text/x-python",
   "name": "python",
   "nbconvert_exporter": "python",
   "pygments_lexer": "ipython3",
   "version": "3.7.2"
  }
 },
 "nbformat": 4,
 "nbformat_minor": 2
}
