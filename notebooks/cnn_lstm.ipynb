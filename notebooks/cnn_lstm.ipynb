{
 "cells": [
  {
   "cell_type": "code",
   "execution_count": 2,
   "metadata": {},
   "outputs": [
    {
     "name": "stdout",
     "output_type": "stream",
     "text": [
      "('Data directory: ', '/home/matthias/gait_project/datasets')\n",
      "('loading configuration ', 'default')\n",
      "<gait_analysis.DataSets.CasiaDataset.CasiaDataset object at 0x7fe2f9c88c90>\n",
      "Done... hopefully without errors\n"
     ]
    }
   ],
   "source": [
    "import torch\n",
    "import torch.nn as nn\n",
    "import torch.nn.functional as F\n",
    "import torch.optim as optim\n",
    "from torch.optim import lr_scheduler\n",
    "import numpy as np\n",
    "import torchvision\n",
    "from torchvision import datasets, models, transforms\n",
    "import time\n",
    "import os\n",
    "import os.path as path\n",
    "import copy\n",
    "\n",
    "crop_im_size = [186,250]\n",
    "\n",
    "tdir = path.abspath(path.join(os.getcwd(), '..'))\n",
    "datadir = path.abspath(path.join(tdir,'datasets'))\n",
    "print('Data directory: ', datadir)\n",
    "\n",
    "from gait_analysis import AnnotationsCasia as Annotations\n",
    "from gait_analysis import CasiaDataset\n",
    "from gait_analysis.Config import Config\n",
    "\n",
    "\n",
    "c = Config()\n",
    "c.config['pose']['load'] = False\n",
    "c.config['scenes']['load'] = False\n",
    "c.config['flow']['load'] = True\n",
    "c.config['indexing']['grouping'] = 'person_sequence_angle'\n",
    "\n",
    "print(CasiaDataset())\n",
    "\n",
    "dataset = CasiaDataset()\n",
    "\n",
    "print('Done... hopefully without errors')"
   ]
  },
  {
   "cell_type": "code",
   "execution_count": 6,
   "metadata": {},
   "outputs": [
    {
     "name": "stdout",
     "output_type": "stream",
     "text": [
      "done\n"
     ]
    }
   ],
   "source": [
    "#LOAD DATA\n",
    "dataset = CasiaDataset()\n",
    "item = dataset[0]\n",
    "flows = item['flows']\n",
    "annotations = item['annotations']\n",
    "print('done')\n",
    "\n",
    "for i in range(1)\n",
    "\n"
   ]
  },
  {
   "cell_type": "code",
   "execution_count": 4,
   "metadata": {},
   "outputs": [
    {
     "name": "stdout",
     "output_type": "stream",
     "text": [
      "Class defined\n"
     ]
    }
   ],
   "source": [
    "class CNN_LSTM(nn.Module):\n",
    "    def __init__(self):\n",
    "        super(CNN_LSTM,self).__init__()\n",
    "        self.conv1 = nn.Conv2d(3,6,3)\n",
    "        self.pool = nn.MaxPool2d(2,2)\n",
    "        self.conv2 = nn.Conv2d(6,10,3)\n",
    "        self.pool = nn.MaxPool2d(2,2)\n",
    "        self.conv3 = nn.Conv2d(10,10,3)\n",
    "        self.pool = nn.MaxPool2d(2,2)\n",
    "        self.conv4 = nn.Conv2d(10,3,3)\n",
    "        self.pool = nn.MaxPool2d(2,2)\n",
    "        self.conv5 = nn.Conv2d(3,1,3)\n",
    "        self.pool = nn.MaxPool2d(2,2)\n",
    "        self.lstm1 = nn.lstm(1,1,1)\n",
    "        self.lstm2 = nn.lstm(1,1,1)\n",
    "        self.fc1 = nn.Linear(16,lstm_size,lstm_size,120)\n",
    "        self.fc2 = nn.Linear(120,60)\n",
    "        self.fc3 = nn.Linear(60,2)\n",
    "        \n",
    "        #HOW TO IMPLEMENT LSTM?\n",
    "    #TODO: USE THE PAPER'S DIMENSIONS IN THE BEGINNING\n",
    "    def forward(self,x):\n",
    "        #F. from torch.nn.functional\n",
    "        x = self.pool(F.relu(self.conv1(x)))\n",
    "        x = self.pool(F.relu(self.conv2(x)))\n",
    "        x = self.pool(F.relu(self.conv3(x)))\n",
    "        x = self.pool(F.relu(self.conv4(x)))\n",
    "        x = self.pool(F.relu(self.conv5(x)))\n",
    "        #TODO: convert size?\n",
    "        x = x.view((x.size(0),1)) \n",
    "        #how is LSTM activated?\n",
    "        x = F.relu(self.lstm1(x))\n",
    "        x = F.relu(self.lstm2(x))\n",
    "        x = x.view((x.size(0),120))\n",
    "        x = F.relu(self.fc1(x))\n",
    "        x = F.relu(self.fc2(x))\n",
    "        x = self.fc3(x)\n",
    "        return x\n",
    "print(\"Class defined\")"
   ]
  },
  {
   "cell_type": "code",
   "execution_count": null,
   "metadata": {},
   "outputs": [],
   "source": []
  }
 ],
 "metadata": {
  "kernelspec": {
   "display_name": "Python gait_36",
   "language": "python",
   "name": "gait_36"
  },
  "language_info": {
   "codemirror_mode": {
    "name": "ipython",
    "version": 2
   },
   "file_extension": ".py",
   "mimetype": "text/x-python",
   "name": "python",
   "nbconvert_exporter": "python",
   "pygments_lexer": "ipython2",
   "version": "2.7.15"
  }
 },
 "nbformat": 4,
 "nbformat_minor": 2
}
