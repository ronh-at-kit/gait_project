{
 "cells": [
  {
   "cell_type": "code",
   "execution_count": 1,
   "metadata": {},
   "outputs": [
    {
     "name": "stdout",
     "output_type": "stream",
     "text": [
      "/home/sandro/Projekte/2018_gait/gait_projects\n"
     ]
    }
   ],
   "source": [
    "%cd .."
   ]
  },
  {
   "cell_type": "code",
   "execution_count": 5,
   "metadata": {},
   "outputs": [
    {
     "name": "stderr",
     "output_type": "stream",
     "text": [
      "/home/sandro/anaconda2/envs/gait_27/lib/python2.7/site-packages/pandas/core/computation/expressions.py:179: UserWarning: evaluating in Python space because the '*' operator is not supported by numexpr for the bool dtype, use '&' instead\n",
      "  .format(op=op_str, alt_op=unsupported[op_str]))\n"
     ]
    }
   ],
   "source": [
    "from gait_analysis.utils.Datasets import TumGAID_Dataset\n",
    "from gait_analysis import settings as S\n",
    "\n",
    "## TUMGAID example\n",
    "tumgaid_default_args = {\n",
    "    'load_pose': True,\n",
    "    'load_pose_options': {\n",
    "        'D': 2,\n",
    "        'body_keypoints_include_list': ['LAnkle',\n",
    "                                        'RAnkle',\n",
    "                                        'LKnee',\n",
    "                                        'RKnee',\n",
    "                                        'RHip',\n",
    "                                        'LHip']\n",
    "    },\n",
    "    'load_flow': True,\n",
    "    'load_flow_options': {\n",
    "        'method': 'dense',\n",
    "        'load_patches': True,\n",
    "        'load_patch_options': {\n",
    "            'patch_size': 5\n",
    "        }\n",
    "    },\n",
    "    'load_scene': False,\n",
    "    'load_scene_options': {\n",
    "        'grayscale': False,\n",
    "        'load_tracked': False\n",
    "    },\n",
    "    'include_scenes': ['b01', 'b02', 'n01', 'n02', 's01', 's02'],\n",
    "\n",
    "}\n",
    "tg_dset = TumGAID_Dataset(S.tumgaid_root,\n",
    "                          S.tumgaid_preprocessing_root,\n",
    "                          S.tumgaid_annotations_root,\n",
    "                          tumgaid_default_args)\n",
    "output, annotations = tg_dset[0]"
   ]
  },
  {
   "cell_type": "code",
   "execution_count": null,
   "metadata": {},
   "outputs": [],
   "source": []
  }
 ],
 "metadata": {
  "kernelspec": {
   "display_name": "Python [conda env:gait_27]",
   "language": "python",
   "name": "conda-env-gait_27-py"
  },
  "language_info": {
   "codemirror_mode": {
    "name": "ipython",
    "version": 2
   },
   "file_extension": ".py",
   "mimetype": "text/x-python",
   "name": "python",
   "nbconvert_exporter": "python",
   "pygments_lexer": "ipython2",
   "version": "2.7.14"
  }
 },
 "nbformat": 4,
 "nbformat_minor": 2
}
