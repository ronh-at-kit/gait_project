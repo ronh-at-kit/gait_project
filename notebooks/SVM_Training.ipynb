{
 "cells": [
  {
   "cell_type": "code",
   "execution_count": 1,
   "metadata": {},
   "outputs": [],
   "source": [
    "import sys\n",
    "import os\n",
    "import numpy as np\n",
    "sys.path.insert(0, '..')"
   ]
  },
  {
   "cell_type": "code",
   "execution_count": 2,
   "metadata": {},
   "outputs": [],
   "source": [
    "from gait_analysis.Datasets import TumGAID_Dataset\n",
    "from gait_analysis import settings as S\n",
    "\n",
    "## TUMGAID example\n",
    "tumgaid_args = {\n",
    "    'load_pose': True,\n",
    "    'load_pose_options': {\n",
    "        'D': 2,\n",
    "        'body_keypoints_include_list': ['LAnkle',\n",
    "                                        'RAnkle',\n",
    "                                        'LKnee',\n",
    "                                        'RKnee',\n",
    "                                        'RHip',\n",
    "                                        'LHip']\n",
    "    },\n",
    "    'load_flow': False,\n",
    "    'load_flow_options': {\n",
    "        'method': 'dense',\n",
    "        'load_patches': True,\n",
    "        'load_patch_options': {\n",
    "            'patch_size': 5\n",
    "        }\n",
    "    },\n",
    "    'load_scene': False,\n",
    "    'load_scene_options': {\n",
    "        'grayscale': False,\n",
    "        'load_tracked': False\n",
    "    },\n",
    "    'include_scenes': ['b01', 'b02', 'n01', 'n02', 's01', 's02'],\n",
    "\n",
    "}\n",
    "tg_dset = TumGAID_Dataset(S.tumgaid_root,\n",
    "                          S.tumgaid_preprocessing_root,\n",
    "                          S.tumgaid_annotations_root,\n",
    "                          tumgaid_args)"
   ]
  },
  {
   "cell_type": "code",
   "execution_count": 3,
   "metadata": {},
   "outputs": [
    {
     "name": "stdout",
     "output_type": "stream",
     "text": [
      "['pose_keypoints']\n",
      "pose_keypoints : 39\n"
     ]
    },
    {
     "name": "stderr",
     "output_type": "stream",
     "text": [
      "/home/sandro/anaconda2/envs/gait_27/lib/python2.7/site-packages/pandas/core/computation/expressions.py:179: UserWarning: evaluating in Python space because the '*' operator is not supported by numexpr for the bool dtype, use '&' instead\n",
      "  .format(op=op_str, alt_op=unsupported[op_str]))\n"
     ]
    }
   ],
   "source": [
    "tg_dset.p_nums\n",
    "data, annoations = tg_dset[0]\n",
    "print(data.keys())\n",
    "print('pose_keypoints : {}'.format(len(data['pose_keypoints'])))"
   ]
  },
  {
   "cell_type": "code",
   "execution_count": 4,
   "metadata": {},
   "outputs": [
    {
     "data": {
      "text/plain": [
       "[array([287.624, 330.745]),\n",
       " array([244.542, 350.247]),\n",
       " array([245.852, 286.37 ]),\n",
       " array([266.713, 282.438]),\n",
       " array([184.517, 393.346]),\n",
       " array([294.137, 392.073])]"
      ]
     },
     "execution_count": 4,
     "metadata": {},
     "output_type": "execute_result"
    }
   ],
   "source": [
    "data, annotations = tg_dset[0]\n",
    "p = data['pose_keypoints']\n",
    "p[0]"
   ]
  },
  {
   "cell_type": "code",
   "execution_count": 5,
   "metadata": {},
   "outputs": [
    {
     "name": "stdout",
     "output_type": "stream",
     "text": [
      "[array([287.624, 330.745]), array([244.542, 350.247]), array([245.852, 286.37 ]), array([266.713, 282.438]), array([184.517, 393.346]), array([294.137, 392.073])]\n",
      "[array([206.702, 320.324]), array([151.94 , 348.987]), array([144.073, 282.42 ]), array([170.193, 275.912]), array([144.086, 411.635]), array([192.355, 382.946])]\n",
      "[array([80.922, 10.421]), array([92.602,  1.26 ]), array([101.779,   3.95 ]), array([96.52 ,  6.526]), array([ 40.431, -18.289]), array([101.782,   9.127])]\n"
     ]
    }
   ],
   "source": [
    "class Pose():\n",
    "    pose_keypoints = None\n",
    "    def __init__(self, pose_keypoints):\n",
    "        assert type(pose_keypoints) == list\n",
    "        self.pose_keypoints = pose_keypoints\n",
    "        \n",
    "    def __sub__(pose1, pose2):\n",
    "        diff_pose = []\n",
    "        for arr1, arr2 in zip(pose1.pose_keypoints, pose2.pose_keypoints):\n",
    "            diff_pose.append(arr1 - arr2)\n",
    "        return Pose(diff_pose)\n",
    "    \n",
    "    def __str__(self):\n",
    "        return self.pose_keypoints.__str__()\n",
    "    \n",
    "    def to_list(self):\n",
    "        return self.pose_keypoints\n",
    "    \n",
    "def extract_pose(tg_dset, i):    \n",
    "    data, annotations = tg_dset[i]\n",
    "    p = data['pose_keypoints'][0]\n",
    "    return p\n",
    "    \n",
    "pose1 = Pose(extract_pose(tg_dset, 0))\n",
    "pose2 = Pose(extract_pose(tg_dset, 2))\n",
    "\n",
    "print(pose1)\n",
    "print(pose2)\n",
    "print(pose1 - pose2)"
   ]
  },
  {
   "cell_type": "markdown",
   "metadata": {},
   "source": [
    "## Settings"
   ]
  },
  {
   "cell_type": "code",
   "execution_count": 6,
   "metadata": {},
   "outputs": [],
   "source": [
    "diff_poses = True"
   ]
  },
  {
   "cell_type": "markdown",
   "metadata": {},
   "source": [
    "# Split dataset into Train and Validation"
   ]
  },
  {
   "cell_type": "code",
   "execution_count": 7,
   "metadata": {},
   "outputs": [],
   "source": [
    "import sklearn\n",
    "from sklearn.model_selection import train_test_split\n",
    "\n",
    "split_index = 10\n",
    "p_nums_train = tg_dset.p_nums[:split_index]\n",
    "p_nums_test = tg_dset.p_nums[split_index:]\n",
    "def create_idx_list(p_nums_list):\n",
    "    idx_list = []\n",
    "    for i, dset_item in enumerate(tg_dset.dataset_items):\n",
    "        p_num, _ = dset_item\n",
    "        if p_num in p_nums_list:\n",
    "            idx_list.append(i)\n",
    "    return idx_list\n",
    "idx_train = create_idx_list(p_nums_train)\n",
    "idx_test = create_idx_list(p_nums_test)"
   ]
  },
  {
   "cell_type": "markdown",
   "metadata": {},
   "source": [
    "# Training Loop"
   ]
  },
  {
   "cell_type": "code",
   "execution_count": 8,
   "metadata": {},
   "outputs": [],
   "source": [
    "def annotations_to_targets(annotations):\n",
    "    '''\n",
    "    IN_THE_AIR == TRUE\n",
    "    '''\n",
    "    a = annotations.left_foot.values == 'IN_THE_AIR'    \n",
    "    return a * 1\n",
    "\n",
    "def flatten_features(single_frame_feature):\n",
    "    return np.ravel(single_frame_feature)\n",
    "\n",
    "from itertools import *\n",
    "def pairwise(iterable):\n",
    "    \"s -> (s0,s1), (s1,s2), (s2, s3), ...\"\n",
    "    a, b = tee(iterable)\n",
    "    next(b, None)\n",
    "    return list(zip(a, b))\n",
    "\n",
    "def maybe_subtract_poses(pose_keypoints, diff_poses):\n",
    "    if diff_poses:\n",
    "        augmented_list = [pose_keypoints[0]] + pose_keypoints\n",
    "        poses = []\n",
    "        for p1, p2 in pairwise(augmented_list):\n",
    "            diff_pose = Pose(p1) - Pose(p2)\n",
    "            poses.append(diff_pose.to_list())\n",
    "        return poses\n",
    "    return pose_keypoints\n",
    "\n",
    "temporal_extent = 2 #will concatenate +- N frame features together into a single feature vector"
   ]
  },
  {
   "cell_type": "code",
   "execution_count": 9,
   "metadata": {},
   "outputs": [],
   "source": [
    "data, annotations = tg_dset[0]\n",
    "p = data['pose_keypoints']\n",
    "len(flatten_features(p[0]))\n",
    "\n",
    "\n",
    "pose_keypoints = p\n",
    "diff_poses = True\n",
    "p_new = maybe_subtract_poses(pose_keypoints, diff_poses)"
   ]
  },
  {
   "cell_type": "code",
   "execution_count": 10,
   "metadata": {},
   "outputs": [],
   "source": [
    "def yield_kXY(temporal_extent, flat_features, targets):\n",
    "    '''\n",
    "    yields an X and a Y given a list of flat_features and a list of targets.\n",
    "    The temporal_extent will concatenate neighboring frames into a single features vector.\n",
    "    The target will be the center frame of the concatenate extent\n",
    "    \n",
    "    yields index k of the sequence of flat_features\n",
    "    concatenated features X\n",
    "    target Y\n",
    "    '''\n",
    "    for k in range(temporal_extent, len(flat_features) - temporal_extent):\n",
    "        x_start, x_end = np.array([-temporal_extent, temporal_extent]) + k\n",
    "        X = np.hstack(flat_features[x_start:x_end + 1])\n",
    "        X = np.reshape(X, (1, -1))\n",
    "        Y = targets[k]\n",
    "        yield k, X, Y"
   ]
  },
  {
   "cell_type": "markdown",
   "metadata": {},
   "source": [
    "# Initialize Model"
   ]
  },
  {
   "cell_type": "code",
   "execution_count": 23,
   "metadata": {},
   "outputs": [],
   "source": [
    "#from gait_analysis.Models.OtherModels import SVMModel\n",
    "from gait_analysis.Models.BaseModels import AbstractGaitModel\n",
    "from gait_analysis.Models.OtherModels import SVMModel\n",
    "from sklearn import svm\n",
    "\n",
    "svm_obj = svm.SVC(kernel='linear')\n",
    "model = SVMModel(svm_obj)"
   ]
  },
  {
   "cell_type": "code",
   "execution_count": 24,
   "metadata": {},
   "outputs": [],
   "source": [
    "for idx in idx_train:\n",
    "    features, annotations = tg_dset[idx]\n",
    "    targets = annotations_to_targets(annotations)\n",
    "    list_of_single_frame_features = features['pose_keypoints']\n",
    "    list_of_single_frame_features = maybe_subtract_poses(list_of_single_frame_features, diff_poses)\n",
    "    flat_features = list(map(flatten_features, list_of_single_frame_features))\n",
    "    for _, X, Y in yield_kXY(temporal_extent, flat_features, targets):\n",
    "        model.train(X, Y)\n",
    "model.finish_training() # actually fit svm"
   ]
  },
  {
   "cell_type": "code",
   "execution_count": 25,
   "metadata": {},
   "outputs": [],
   "source": [
    "import pandas as pd\n",
    "result_dict = {}\n",
    "for idx in idx_test:\n",
    "    features, annotations = tg_dset[idx]\n",
    "    targets = annotations_to_targets(annotations)\n",
    "    list_of_single_frame_features = features['pose_keypoints']\n",
    "    list_of_single_frame_features = maybe_subtract_poses(list_of_single_frame_features, diff_poses)\n",
    "    flat_features = list(map(flatten_features, list_of_single_frame_features))\n",
    "    \n",
    "    sequence_output = {\n",
    "        'frame_id' : [],\n",
    "        'target' : [],\n",
    "        'prediction' : []\n",
    "    }\n",
    "    for k, X, Y in yield_kXY(temporal_extent, flat_features, targets):\n",
    "        prediction = model.svm_obj.predict(X)                \n",
    "        sequence_output['frame_id'].append(k)\n",
    "        sequence_output['target'].append(Y)\n",
    "        sequence_output['prediction'].append(prediction)\n",
    "        \n",
    "    result_dict[idx] = sequence_output"
   ]
  },
  {
   "cell_type": "code",
   "execution_count": 16,
   "metadata": {},
   "outputs": [],
   "source": [
    "df = pd.DataFrame(result_dict)"
   ]
  },
  {
   "cell_type": "code",
   "execution_count": 22,
   "metadata": {},
   "outputs": [
    {
     "data": {
      "text/plain": [
       "[array([0]),\n",
       " array([0]),\n",
       " array([0]),\n",
       " array([0]),\n",
       " array([0]),\n",
       " array([0]),\n",
       " array([0]),\n",
       " array([0]),\n",
       " array([0]),\n",
       " array([0]),\n",
       " array([0]),\n",
       " array([0]),\n",
       " array([0]),\n",
       " array([0]),\n",
       " array([0]),\n",
       " array([0]),\n",
       " array([0]),\n",
       " array([0]),\n",
       " array([0]),\n",
       " array([0]),\n",
       " array([0]),\n",
       " array([0]),\n",
       " array([0]),\n",
       " array([0]),\n",
       " array([0]),\n",
       " array([0]),\n",
       " array([0]),\n",
       " array([0]),\n",
       " array([0]),\n",
       " array([0]),\n",
       " array([0]),\n",
       " array([0]),\n",
       " array([0]),\n",
       " array([0]),\n",
       " array([0]),\n",
       " array([0]),\n",
       " array([0]),\n",
       " array([0]),\n",
       " array([0]),\n",
       " array([0]),\n",
       " array([0]),\n",
       " array([0]),\n",
       " array([0]),\n",
       " array([0]),\n",
       " array([0]),\n",
       " array([0]),\n",
       " array([0]),\n",
       " array([0]),\n",
       " array([0]),\n",
       " array([0]),\n",
       " array([0]),\n",
       " array([0]),\n",
       " array([0]),\n",
       " array([0])]"
      ]
     },
     "execution_count": 22,
     "metadata": {},
     "output_type": "execute_result"
    },
    {
     "data": {
      "image/png": "[encoded data removed]",
      "text/plain": [
       "<Figure size 432x288 with 1 Axes>"
      ]
     },
     "metadata": {},
     "output_type": "display_data"
    }
   ],
   "source": [
    "from matplotlib import pyplot as plt\n",
    "df = pd.DataFrame(result_dict)\n",
    "def plot_single_sequence(sequence_id, data_frame):\n",
    "    a = data_frame[sequence_id]\n",
    "    fig, ax = plt.subplots()\n",
    "    x = a['frame_id']\n",
    "    ax.plot(x, a['prediction'], label='prediction')\n",
    "    ax.plot(x, a['target'], label='target')\n",
    "    plt.legend()\n",
    "    plt.xlabel('Frame Number')\n",
    "    plt.title('Dataset Index {}'.format(sequence_id))\n",
    "    return fig, ax\n",
    "\n",
    "%matplotlib inline\n",
    "fig, ax = plot_single_sequence(64, df)"
   ]
  },
  {
   "cell_type": "code",
   "execution_count": null,
   "metadata": {},
   "outputs": [],
   "source": []
  }
 ],
 "metadata": {
  "kernelspec": {
   "display_name": "Python [conda env:gait_27]",
   "language": "python",
   "name": "conda-env-gait_27-py"
  },
  "language_info": {
   "codemirror_mode": {
    "name": "ipython",
    "version": 2
   },
   "file_extension": ".py",
   "mimetype": "text/x-python",
   "name": "python",
   "nbconvert_exporter": "python",
   "pygments_lexer": "ipython2",
   "version": "2.7.14"
  }
 },
 "nbformat": 4,
 "nbformat_minor": 2
}
