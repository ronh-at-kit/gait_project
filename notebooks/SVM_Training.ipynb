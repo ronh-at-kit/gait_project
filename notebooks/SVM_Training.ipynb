{
 "cells": [
  {
   "cell_type": "code",
   "execution_count": 13,
   "metadata": {},
   "outputs": [],
   "source": [
    "import sys\n",
    "import os\n",
    "import numpy as np\n",
    "sys.path.insert(0, '..')"
   ]
  },
  {
   "cell_type": "code",
   "execution_count": 14,
   "metadata": {},
   "outputs": [],
   "source": [
    "from gait_analysis.Datasets import TumGAID_Dataset\n",
    "from gait_analysis import settings as S\n",
    "\n",
    "## TUMGAID example\n",
    "tumgaid_args = {\n",
    "    'load_pose': True,\n",
    "    'load_pose_options': {\n",
    "        'D': 2,\n",
    "        'body_keypoints_include_list': ['LAnkle',\n",
    "                                        'RAnkle',\n",
    "                                        'LKnee',\n",
    "                                        'RKnee',\n",
    "                                        'RHip',\n",
    "                                        'LHip']\n",
    "    },\n",
    "    'load_flow': False,\n",
    "    'load_flow_options': {\n",
    "        'method': 'dense',\n",
    "        'load_patches': True,\n",
    "        'load_patch_options': {\n",
    "            'patch_size': 5\n",
    "        }\n",
    "    },\n",
    "    'load_scene': False,\n",
    "    'load_scene_options': {\n",
    "        'grayscale': False,\n",
    "        'load_tracked': False\n",
    "    },\n",
    "    'include_scenes': ['b01', 'b02', 'n01', 'n02', 's01', 's02'],\n",
    "\n",
    "}\n",
    "tg_dset = TumGAID_Dataset(S.tumgaid_root,\n",
    "                          S.tumgaid_preprocessing_root,\n",
    "                          S.tumgaid_annotations_root,\n",
    "                          tumgaid_args)"
   ]
  },
  {
   "cell_type": "code",
   "execution_count": 15,
   "metadata": {},
   "outputs": [
    {
     "data": {
      "text/plain": [
       "[1, 2, 3, 4, 5, 6, 7, 8, 9, 10, 301, 302, 303, 304, 305]"
      ]
     },
     "execution_count": 15,
     "metadata": {},
     "output_type": "execute_result"
    }
   ],
   "source": [
    "tg_dset.p_nums"
   ]
  },
  {
   "cell_type": "markdown",
   "metadata": {},
   "source": [
    "# Split dataset into Train and Validation"
   ]
  },
  {
   "cell_type": "code",
   "execution_count": 18,
   "metadata": {},
   "outputs": [],
   "source": [
    "import sklearn\n",
    "from sklearn.model_selection import train_test_split\n",
    "\n",
    "split_index = 10\n",
    "p_nums_train = tg_dset.p_nums[:split_index]\n",
    "p_nums_test = tg_dset.p_nums[split_index:]\n",
    "def create_idx_list(p_nums_list):\n",
    "    idx_list = []\n",
    "    for i, dset_item in enumerate(tg_dset.dataset_items):\n",
    "        p_num, _ = dset_item\n",
    "        if p_num in p_nums_list:\n",
    "            idx_list.append(i)\n",
    "    return idx_list\n",
    "idx_train = create_idx_list(p_nums_train)\n",
    "idx_test = create_idx_list(p_nums_test)"
   ]
  },
  {
   "cell_type": "markdown",
   "metadata": {},
   "source": [
    "# Training Loop"
   ]
  },
  {
   "cell_type": "code",
   "execution_count": 19,
   "metadata": {},
   "outputs": [],
   "source": [
    "def annotations_to_targets(annotations):\n",
    "    '''\n",
    "    IN_THE_AIR == TRUE\n",
    "    '''\n",
    "    a = annotations.left_foot.values == 'IN_THE_AIR'    \n",
    "    return a * 1\n",
    "\n",
    "def flatten_features(single_frame_feature):\n",
    "    return np.ravel(features['pose_keypoints'][0])\n",
    "\n",
    "temporal_extent = 2 #will concatenate +- N frame features together into a single feature vector"
   ]
  },
  {
   "cell_type": "code",
   "execution_count": 20,
   "metadata": {},
   "outputs": [],
   "source": [
    "def yield_kXY(temporal_extent, flat_features, targets):\n",
    "    '''\n",
    "    yields an X and a Y given a list of flat_features and a list of targets.\n",
    "    The temporal_extent will concatenate neighboring frames into a single features vector.\n",
    "    The target will be the center frame of the concatenate extent\n",
    "    \n",
    "    yields index k of the sequence of flat_features\n",
    "    concatenated features X\n",
    "    target Y\n",
    "    '''\n",
    "    for k in range(temporal_extent, len(flat_features) - temporal_extent):\n",
    "        x_start, x_end = np.array([-temporal_extent, temporal_extent]) + k\n",
    "        X = np.hstack(flat_features[x_start:x_end + 1])\n",
    "        X = np.reshape(X, (1, -1))\n",
    "        Y = targets[k]\n",
    "        yield k, X, Y"
   ]
  },
  {
   "cell_type": "markdown",
   "metadata": {},
   "source": [
    "# Initialize Model"
   ]
  },
  {
   "cell_type": "code",
   "execution_count": 36,
   "metadata": {},
   "outputs": [],
   "source": [
    "#from gait_analysis.Models.OtherModels import SVMModel\n",
    "from gait_analysis.Models.BaseModels import AbstractGaitModel\n",
    "from gait_analysis.Models.OtherModels import SVMModel\n",
    "from sklearn import svm\n",
    "\n",
    "svm_obj = svm.SVC()\n",
    "model = SVMModel(svm_obj)"
   ]
  },
  {
   "cell_type": "code",
   "execution_count": 37,
   "metadata": {},
   "outputs": [],
   "source": [
    "for idx in idx_train:\n",
    "    features, annotations = tg_dset[idx]\n",
    "    targets = annotations_to_targets(annotations)\n",
    "    flat_features = list(map(flatten_features, features['pose_keypoints']))\n",
    "    for _, X, Y in yield_kXY(temporal_extent, flat_features, targets):\n",
    "        model.train(X, Y)\n",
    "model.finish_training() # actually fit svm"
   ]
  },
  {
   "cell_type": "code",
   "execution_count": 38,
   "metadata": {},
   "outputs": [
    {
     "name": "stdout",
     "output_type": "stream",
     "text": [
      "(3677,)\n",
      "(3677, 60)\n"
     ]
    }
   ],
   "source": [
    "print(model.target_list.shape)\n",
    "print(model.feature_list.shape)"
   ]
  },
  {
   "cell_type": "code",
   "execution_count": 41,
   "metadata": {},
   "outputs": [],
   "source": [
    "import pandas as pd\n",
    "result_dict = {}\n",
    "for idx in idx_test:\n",
    "    features, annotations = tg_dset[idx]\n",
    "    targets = annotations_to_targets(annotations)\n",
    "    flat_features = list(map(flatten_features, features['pose_keypoints']))\n",
    "    \n",
    "    sequence_output = {\n",
    "        'frame_id' : [],\n",
    "        'target' : [],\n",
    "        'prediction' : []\n",
    "    }\n",
    "    for k, X, Y in yield_kXY(temporal_extent, flat_features, targets):\n",
    "        prediction = model.svm_obj.predict(X)                \n",
    "        sequence_output['frame_id'].append(k)\n",
    "        sequence_output['target'].append(Y)\n",
    "        sequence_output['prediction'].append(prediction)\n",
    "        \n",
    "    result_dict[idx] = sequence_output"
   ]
  },
  {
   "cell_type": "code",
   "execution_count": 42,
   "metadata": {},
   "outputs": [],
   "source": [
    "df = pd.DataFrame(result_dict)"
   ]
  },
  {
   "cell_type": "code",
   "execution_count": 43,
   "metadata": {},
   "outputs": [
    {
     "data": {
      "text/plain": [
       "[60,\n",
       " 61,\n",
       " 62,\n",
       " 63,\n",
       " 64,\n",
       " 65,\n",
       " 66,\n",
       " 67,\n",
       " 68,\n",
       " 69,\n",
       " 70,\n",
       " 71,\n",
       " 72,\n",
       " 73,\n",
       " 74,\n",
       " 75,\n",
       " 76,\n",
       " 77,\n",
       " 78,\n",
       " 79,\n",
       " 80,\n",
       " 81,\n",
       " 82,\n",
       " 83,\n",
       " 84,\n",
       " 85,\n",
       " 86,\n",
       " 87,\n",
       " 88,\n",
       " 89]"
      ]
     },
     "execution_count": 43,
     "metadata": {},
     "output_type": "execute_result"
    }
   ],
   "source": [
    "idx_test"
   ]
  },
  {
   "cell_type": "code",
   "execution_count": 44,
   "metadata": {},
   "outputs": [
    {
     "data": {
      "image/png": "[encoded data removed]",
      "text/plain": [
       "<Figure size 432x288 with 1 Axes>"
      ]
     },
     "metadata": {},
     "output_type": "display_data"
    }
   ],
   "source": [
    "from matplotlib import pyplot as plt\n",
    "\n",
    "def plot_single_sequence(sequence_id, data_frame):\n",
    "    a = data_frame[sequence_id]\n",
    "    fig, ax = plt.subplots()\n",
    "    x = a['frame_id']\n",
    "    ax.plot(x, a['prediction'], label='prediction')\n",
    "    ax.plot(x, a['target'], label='target')\n",
    "    plt.legend()\n",
    "    plt.xlabel('Frame Number')\n",
    "    plt.title('Dataset Index {}'.format(sequence_id))\n",
    "    return fig, ax\n",
    "\n",
    "%matplotlib inline\n",
    "fig, ax = plot_single_sequence(63, df)"
   ]
  },
  {
   "cell_type": "code",
   "execution_count": null,
   "metadata": {},
   "outputs": [],
   "source": []
  }
 ],
 "metadata": {
  "kernelspec": {
   "display_name": "Python [conda env:gait_27]",
   "language": "python",
   "name": "conda-env-gait_27-py"
  },
  "language_info": {
   "codemirror_mode": {
    "name": "ipython",
    "version": 2
   },
   "file_extension": ".py",
   "mimetype": "text/x-python",
   "name": "python",
   "nbconvert_exporter": "python",
   "pygments_lexer": "ipython2",
   "version": "2.7.14"
  }
 },
 "nbformat": 4,
 "nbformat_minor": 2
}
